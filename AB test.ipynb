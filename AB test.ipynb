{
 "cells": [
  {
   "cell_type": "markdown",
   "id": "0a062513",
   "metadata": {},
   "source": [
    "---"
   ]
  },
  {
   "cell_type": "code",
   "execution_count": 1,
   "id": "491fbb50",
   "metadata": {},
   "outputs": [],
   "source": [
    "import pandas as pd\n",
    "import numpy as np\n",
    "import datetime as dt\n",
    "import seaborn as sns\n",
    "import matplotlib.pyplot as plt\n",
    "import datetime\n",
    "from scipy import stats as st\n",
    "import scipy.stats as stats\n",
    "from scipy.stats import mannwhitneyu\n",
    "import statistics\n",
    "pd.options.mode.chained_assignment = None \n",
    "import calendar\n",
    "from scipy import stats as st\n",
    "import math as mth\n",
    "from matplotlib.pyplot import figure"
   ]
  },
  {
   "cell_type": "code",
   "execution_count": 2,
   "id": "33873e76",
   "metadata": {},
   "outputs": [],
   "source": [
    "\n",
    "try:\n",
    "    \n",
    "    hypotheses=pd.read_csv('/datasets/hypotheses_us.csv', sep=';')\n",
    "    orders=pd.read_csv('/datasets/orders_us.csv')\n",
    "    visits=pd.read_csv('/datasets/visits_us.csv')\n",
    "except:\n",
    "    hypotheses=pd.read_csv('datasets/hypotheses_us.csv', sep=';')\n",
    "    orders=pd.read_csv('datasets/orders_us.csv')\n",
    "    visits=pd.read_csv('datasets/visits_us.csv')"
   ]
  },
  {
   "cell_type": "code",
   "execution_count": 3,
   "id": "357b3120",
   "metadata": {},
   "outputs": [
    {
     "data": {
      "text/html": [
       "<div>\n",
       "<style scoped>\n",
       "    .dataframe tbody tr th:only-of-type {\n",
       "        vertical-align: middle;\n",
       "    }\n",
       "\n",
       "    .dataframe tbody tr th {\n",
       "        vertical-align: top;\n",
       "    }\n",
       "\n",
       "    .dataframe thead th {\n",
       "        text-align: right;\n",
       "    }\n",
       "</style>\n",
       "<table border=\"1\" class=\"dataframe\">\n",
       "  <thead>\n",
       "    <tr style=\"text-align: right;\">\n",
       "      <th></th>\n",
       "      <th>Hypothesis</th>\n",
       "      <th>Reach</th>\n",
       "      <th>Impact</th>\n",
       "      <th>Confidence</th>\n",
       "      <th>Effort</th>\n",
       "    </tr>\n",
       "  </thead>\n",
       "  <tbody>\n",
       "    <tr>\n",
       "      <td>0</td>\n",
       "      <td>Add two new channels for attracting traffic. T...</td>\n",
       "      <td>3</td>\n",
       "      <td>10</td>\n",
       "      <td>8</td>\n",
       "      <td>6</td>\n",
       "    </tr>\n",
       "    <tr>\n",
       "      <td>1</td>\n",
       "      <td>Launch your own delivery service. This will sh...</td>\n",
       "      <td>2</td>\n",
       "      <td>5</td>\n",
       "      <td>4</td>\n",
       "      <td>10</td>\n",
       "    </tr>\n",
       "    <tr>\n",
       "      <td>2</td>\n",
       "      <td>Add product recommendation blocks to the store...</td>\n",
       "      <td>8</td>\n",
       "      <td>3</td>\n",
       "      <td>7</td>\n",
       "      <td>3</td>\n",
       "    </tr>\n",
       "    <tr>\n",
       "      <td>3</td>\n",
       "      <td>Change the category structure. This will incre...</td>\n",
       "      <td>8</td>\n",
       "      <td>3</td>\n",
       "      <td>3</td>\n",
       "      <td>8</td>\n",
       "    </tr>\n",
       "    <tr>\n",
       "      <td>4</td>\n",
       "      <td>Change the background color on the main page. ...</td>\n",
       "      <td>3</td>\n",
       "      <td>1</td>\n",
       "      <td>1</td>\n",
       "      <td>1</td>\n",
       "    </tr>\n",
       "  </tbody>\n",
       "</table>\n",
       "</div>"
      ],
      "text/plain": [
       "                                          Hypothesis  Reach  Impact  \\\n",
       "0  Add two new channels for attracting traffic. T...      3      10   \n",
       "1  Launch your own delivery service. This will sh...      2       5   \n",
       "2  Add product recommendation blocks to the store...      8       3   \n",
       "3  Change the category structure. This will incre...      8       3   \n",
       "4  Change the background color on the main page. ...      3       1   \n",
       "\n",
       "   Confidence  Effort  \n",
       "0           8       6  \n",
       "1           4      10  \n",
       "2           7       3  \n",
       "3           3       8  \n",
       "4           1       1  "
      ]
     },
     "execution_count": 3,
     "metadata": {},
     "output_type": "execute_result"
    }
   ],
   "source": [
    "hypotheses.head()"
   ]
  },
  {
   "cell_type": "code",
   "execution_count": 4,
   "id": "a4a9e8d6",
   "metadata": {},
   "outputs": [
    {
     "name": "stdout",
     "output_type": "stream",
     "text": [
      "<class 'pandas.core.frame.DataFrame'>\n",
      "RangeIndex: 9 entries, 0 to 8\n",
      "Data columns (total 5 columns):\n",
      "Hypothesis    9 non-null object\n",
      "Reach         9 non-null int64\n",
      "Impact        9 non-null int64\n",
      "Confidence    9 non-null int64\n",
      "Effort        9 non-null int64\n",
      "dtypes: int64(4), object(1)\n",
      "memory usage: 488.0+ bytes\n"
     ]
    }
   ],
   "source": [
    "hypotheses.info()"
   ]
  },
  {
   "cell_type": "code",
   "execution_count": 5,
   "id": "5614b3f7",
   "metadata": {},
   "outputs": [
    {
     "data": {
      "text/html": [
       "<div>\n",
       "<style scoped>\n",
       "    .dataframe tbody tr th:only-of-type {\n",
       "        vertical-align: middle;\n",
       "    }\n",
       "\n",
       "    .dataframe tbody tr th {\n",
       "        vertical-align: top;\n",
       "    }\n",
       "\n",
       "    .dataframe thead th {\n",
       "        text-align: right;\n",
       "    }\n",
       "</style>\n",
       "<table border=\"1\" class=\"dataframe\">\n",
       "  <thead>\n",
       "    <tr style=\"text-align: right;\">\n",
       "      <th></th>\n",
       "      <th>transactionId</th>\n",
       "      <th>visitorId</th>\n",
       "      <th>date</th>\n",
       "      <th>revenue</th>\n",
       "      <th>group</th>\n",
       "    </tr>\n",
       "  </thead>\n",
       "  <tbody>\n",
       "    <tr>\n",
       "      <td>0</td>\n",
       "      <td>3667963787</td>\n",
       "      <td>3312258926</td>\n",
       "      <td>2019-08-15</td>\n",
       "      <td>30.4</td>\n",
       "      <td>B</td>\n",
       "    </tr>\n",
       "    <tr>\n",
       "      <td>1</td>\n",
       "      <td>2804400009</td>\n",
       "      <td>3642806036</td>\n",
       "      <td>2019-08-15</td>\n",
       "      <td>15.2</td>\n",
       "      <td>B</td>\n",
       "    </tr>\n",
       "    <tr>\n",
       "      <td>2</td>\n",
       "      <td>2961555356</td>\n",
       "      <td>4069496402</td>\n",
       "      <td>2019-08-15</td>\n",
       "      <td>10.2</td>\n",
       "      <td>A</td>\n",
       "    </tr>\n",
       "    <tr>\n",
       "      <td>3</td>\n",
       "      <td>3797467345</td>\n",
       "      <td>1196621759</td>\n",
       "      <td>2019-08-15</td>\n",
       "      <td>155.1</td>\n",
       "      <td>B</td>\n",
       "    </tr>\n",
       "    <tr>\n",
       "      <td>4</td>\n",
       "      <td>2282983706</td>\n",
       "      <td>2322279887</td>\n",
       "      <td>2019-08-15</td>\n",
       "      <td>40.5</td>\n",
       "      <td>B</td>\n",
       "    </tr>\n",
       "  </tbody>\n",
       "</table>\n",
       "</div>"
      ],
      "text/plain": [
       "   transactionId   visitorId        date  revenue group\n",
       "0     3667963787  3312258926  2019-08-15     30.4     B\n",
       "1     2804400009  3642806036  2019-08-15     15.2     B\n",
       "2     2961555356  4069496402  2019-08-15     10.2     A\n",
       "3     3797467345  1196621759  2019-08-15    155.1     B\n",
       "4     2282983706  2322279887  2019-08-15     40.5     B"
      ]
     },
     "execution_count": 5,
     "metadata": {},
     "output_type": "execute_result"
    }
   ],
   "source": [
    "orders.head()"
   ]
  },
  {
   "cell_type": "code",
   "execution_count": 6,
   "id": "aeaa5fc1",
   "metadata": {},
   "outputs": [
    {
     "name": "stdout",
     "output_type": "stream",
     "text": [
      "<class 'pandas.core.frame.DataFrame'>\n",
      "RangeIndex: 1197 entries, 0 to 1196\n",
      "Data columns (total 5 columns):\n",
      "transactionId    1197 non-null int64\n",
      "visitorId        1197 non-null int64\n",
      "date             1197 non-null object\n",
      "revenue          1197 non-null float64\n",
      "group            1197 non-null object\n",
      "dtypes: float64(1), int64(2), object(2)\n",
      "memory usage: 46.9+ KB\n"
     ]
    }
   ],
   "source": [
    "orders.info()"
   ]
  },
  {
   "cell_type": "code",
   "execution_count": 7,
   "id": "d60f7928",
   "metadata": {},
   "outputs": [
    {
     "data": {
      "text/html": [
       "<div>\n",
       "<style scoped>\n",
       "    .dataframe tbody tr th:only-of-type {\n",
       "        vertical-align: middle;\n",
       "    }\n",
       "\n",
       "    .dataframe tbody tr th {\n",
       "        vertical-align: top;\n",
       "    }\n",
       "\n",
       "    .dataframe thead th {\n",
       "        text-align: right;\n",
       "    }\n",
       "</style>\n",
       "<table border=\"1\" class=\"dataframe\">\n",
       "  <thead>\n",
       "    <tr style=\"text-align: right;\">\n",
       "      <th></th>\n",
       "      <th>date</th>\n",
       "      <th>group</th>\n",
       "      <th>visits</th>\n",
       "    </tr>\n",
       "  </thead>\n",
       "  <tbody>\n",
       "    <tr>\n",
       "      <td>0</td>\n",
       "      <td>2019-08-01</td>\n",
       "      <td>A</td>\n",
       "      <td>719</td>\n",
       "    </tr>\n",
       "    <tr>\n",
       "      <td>1</td>\n",
       "      <td>2019-08-02</td>\n",
       "      <td>A</td>\n",
       "      <td>619</td>\n",
       "    </tr>\n",
       "    <tr>\n",
       "      <td>2</td>\n",
       "      <td>2019-08-03</td>\n",
       "      <td>A</td>\n",
       "      <td>507</td>\n",
       "    </tr>\n",
       "    <tr>\n",
       "      <td>3</td>\n",
       "      <td>2019-08-04</td>\n",
       "      <td>A</td>\n",
       "      <td>717</td>\n",
       "    </tr>\n",
       "    <tr>\n",
       "      <td>4</td>\n",
       "      <td>2019-08-05</td>\n",
       "      <td>A</td>\n",
       "      <td>756</td>\n",
       "    </tr>\n",
       "  </tbody>\n",
       "</table>\n",
       "</div>"
      ],
      "text/plain": [
       "         date group  visits\n",
       "0  2019-08-01     A     719\n",
       "1  2019-08-02     A     619\n",
       "2  2019-08-03     A     507\n",
       "3  2019-08-04     A     717\n",
       "4  2019-08-05     A     756"
      ]
     },
     "execution_count": 7,
     "metadata": {},
     "output_type": "execute_result"
    }
   ],
   "source": [
    "visits.head()"
   ]
  },
  {
   "cell_type": "code",
   "execution_count": 8,
   "id": "70065f3b",
   "metadata": {},
   "outputs": [],
   "source": [
    "visits['date']=visits['date'].map(lambda x: dt.datetime.strptime(x, '%Y-%m-%d'))\n",
    "orders['date']=orders['date'].map(lambda x: dt.datetime.strptime(x, '%Y-%m-%d'))    "
   ]
  },
  {
   "cell_type": "code",
   "execution_count": 9,
   "id": "7cc98707",
   "metadata": {},
   "outputs": [
    {
     "data": {
      "text/plain": [
       "False"
      ]
     },
     "metadata": {},
     "output_type": "display_data"
    },
    {
     "data": {
      "text/plain": [
       "False"
      ]
     },
     "metadata": {},
     "output_type": "display_data"
    },
    {
     "data": {
      "text/plain": [
       "False"
      ]
     },
     "metadata": {},
     "output_type": "display_data"
    }
   ],
   "source": [
    "display(visits.isna().any().any())\n",
    "display(hypotheses.isna().any().any())\n",
    "display(orders.isna().any().any())"
   ]
  },
  {
   "cell_type": "code",
   "execution_count": 10,
   "id": "321c68b5",
   "metadata": {},
   "outputs": [
    {
     "data": {
      "text/plain": [
       "0"
      ]
     },
     "metadata": {},
     "output_type": "display_data"
    },
    {
     "data": {
      "text/plain": [
       "0"
      ]
     },
     "metadata": {},
     "output_type": "display_data"
    },
    {
     "data": {
      "text/plain": [
       "0"
      ]
     },
     "metadata": {},
     "output_type": "display_data"
    }
   ],
   "source": [
    "display(visits.duplicated().sum())\n",
    "display(hypotheses.duplicated().sum())\n",
    "display(orders.duplicated().sum())"
   ]
  },
  {
   "cell_type": "code",
   "execution_count": 11,
   "id": "7742573d",
   "metadata": {},
   "outputs": [
    {
     "data": {
      "text/html": [
       "<div>\n",
       "<style scoped>\n",
       "    .dataframe tbody tr th:only-of-type {\n",
       "        vertical-align: middle;\n",
       "    }\n",
       "\n",
       "    .dataframe tbody tr th {\n",
       "        vertical-align: top;\n",
       "    }\n",
       "\n",
       "    .dataframe thead th {\n",
       "        text-align: right;\n",
       "    }\n",
       "</style>\n",
       "<table border=\"1\" class=\"dataframe\">\n",
       "  <thead>\n",
       "    <tr style=\"text-align: right;\">\n",
       "      <th></th>\n",
       "      <th>transactionId</th>\n",
       "      <th>visitorId</th>\n",
       "      <th>date</th>\n",
       "      <th>revenue</th>\n",
       "      <th>group</th>\n",
       "    </tr>\n",
       "  </thead>\n",
       "  <tbody>\n",
       "    <tr>\n",
       "      <td>0</td>\n",
       "      <td>3667963787</td>\n",
       "      <td>3312258926</td>\n",
       "      <td>2019-08-15</td>\n",
       "      <td>30.4</td>\n",
       "      <td>B</td>\n",
       "    </tr>\n",
       "    <tr>\n",
       "      <td>1</td>\n",
       "      <td>2804400009</td>\n",
       "      <td>3642806036</td>\n",
       "      <td>2019-08-15</td>\n",
       "      <td>15.2</td>\n",
       "      <td>B</td>\n",
       "    </tr>\n",
       "    <tr>\n",
       "      <td>2</td>\n",
       "      <td>2961555356</td>\n",
       "      <td>4069496402</td>\n",
       "      <td>2019-08-15</td>\n",
       "      <td>10.2</td>\n",
       "      <td>A</td>\n",
       "    </tr>\n",
       "    <tr>\n",
       "      <td>3</td>\n",
       "      <td>3797467345</td>\n",
       "      <td>1196621759</td>\n",
       "      <td>2019-08-15</td>\n",
       "      <td>155.1</td>\n",
       "      <td>B</td>\n",
       "    </tr>\n",
       "    <tr>\n",
       "      <td>4</td>\n",
       "      <td>2282983706</td>\n",
       "      <td>2322279887</td>\n",
       "      <td>2019-08-15</td>\n",
       "      <td>40.5</td>\n",
       "      <td>B</td>\n",
       "    </tr>\n",
       "  </tbody>\n",
       "</table>\n",
       "</div>"
      ],
      "text/plain": [
       "   transactionId   visitorId       date  revenue group\n",
       "0     3667963787  3312258926 2019-08-15     30.4     B\n",
       "1     2804400009  3642806036 2019-08-15     15.2     B\n",
       "2     2961555356  4069496402 2019-08-15     10.2     A\n",
       "3     3797467345  1196621759 2019-08-15    155.1     B\n",
       "4     2282983706  2322279887 2019-08-15     40.5     B"
      ]
     },
     "execution_count": 11,
     "metadata": {},
     "output_type": "execute_result"
    }
   ],
   "source": [
    "orders.head()"
   ]
  },
  {
   "cell_type": "code",
   "execution_count": 12,
   "id": "6436b671",
   "metadata": {},
   "outputs": [],
   "source": [
    "dupliacted=orders[orders.duplicated(['visitorId'])]\n",
    "duplicated_values=orders.groupby('visitorId').agg({\"group\":'nunique'}).reset_index().sort_values('group', ascending=False)\n",
    "duplicated_values=duplicated_values[duplicated_values['group']>=2]"
   ]
  },
  {
   "cell_type": "code",
   "execution_count": 13,
   "id": "ec7bd252",
   "metadata": {},
   "outputs": [],
   "source": [
    "orders=orders[~orders['visitorId'].isin(duplicated_values['visitorId'])]"
   ]
  },
  {
   "cell_type": "code",
   "execution_count": 14,
   "id": "56ddb7e2",
   "metadata": {},
   "outputs": [
    {
     "data": {
      "text/html": [
       "<div>\n",
       "<style scoped>\n",
       "    .dataframe tbody tr th:only-of-type {\n",
       "        vertical-align: middle;\n",
       "    }\n",
       "\n",
       "    .dataframe tbody tr th {\n",
       "        vertical-align: top;\n",
       "    }\n",
       "\n",
       "    .dataframe thead th {\n",
       "        text-align: right;\n",
       "    }\n",
       "</style>\n",
       "<table border=\"1\" class=\"dataframe\">\n",
       "  <thead>\n",
       "    <tr style=\"text-align: right;\">\n",
       "      <th></th>\n",
       "      <th>transactionId</th>\n",
       "      <th>visitorId</th>\n",
       "      <th>date</th>\n",
       "      <th>revenue</th>\n",
       "      <th>group</th>\n",
       "    </tr>\n",
       "  </thead>\n",
       "  <tbody>\n",
       "    <tr>\n",
       "      <td>0</td>\n",
       "      <td>3667963787</td>\n",
       "      <td>3312258926</td>\n",
       "      <td>2019-08-15</td>\n",
       "      <td>30.4</td>\n",
       "      <td>B</td>\n",
       "    </tr>\n",
       "    <tr>\n",
       "      <td>1</td>\n",
       "      <td>2804400009</td>\n",
       "      <td>3642806036</td>\n",
       "      <td>2019-08-15</td>\n",
       "      <td>15.2</td>\n",
       "      <td>B</td>\n",
       "    </tr>\n",
       "    <tr>\n",
       "      <td>3</td>\n",
       "      <td>3797467345</td>\n",
       "      <td>1196621759</td>\n",
       "      <td>2019-08-15</td>\n",
       "      <td>155.1</td>\n",
       "      <td>B</td>\n",
       "    </tr>\n",
       "    <tr>\n",
       "      <td>4</td>\n",
       "      <td>2282983706</td>\n",
       "      <td>2322279887</td>\n",
       "      <td>2019-08-15</td>\n",
       "      <td>40.5</td>\n",
       "      <td>B</td>\n",
       "    </tr>\n",
       "    <tr>\n",
       "      <td>5</td>\n",
       "      <td>182168103</td>\n",
       "      <td>935554773</td>\n",
       "      <td>2019-08-15</td>\n",
       "      <td>35.0</td>\n",
       "      <td>B</td>\n",
       "    </tr>\n",
       "  </tbody>\n",
       "</table>\n",
       "</div>"
      ],
      "text/plain": [
       "   transactionId   visitorId       date  revenue group\n",
       "0     3667963787  3312258926 2019-08-15     30.4     B\n",
       "1     2804400009  3642806036 2019-08-15     15.2     B\n",
       "3     3797467345  1196621759 2019-08-15    155.1     B\n",
       "4     2282983706  2322279887 2019-08-15     40.5     B\n",
       "5      182168103   935554773 2019-08-15     35.0     B"
      ]
     },
     "execution_count": 14,
     "metadata": {},
     "output_type": "execute_result"
    }
   ],
   "source": [
    "orders.head()"
   ]
  },
  {
   "cell_type": "markdown",
   "id": "e1448694",
   "metadata": {},
   "source": [
    "## Part 1. Prioritizing Hypotheses"
   ]
  },
  {
   "cell_type": "code",
   "execution_count": 15,
   "id": "d1bb3290",
   "metadata": {},
   "outputs": [
    {
     "data": {
      "text/html": [
       "<div>\n",
       "<style scoped>\n",
       "    .dataframe tbody tr th:only-of-type {\n",
       "        vertical-align: middle;\n",
       "    }\n",
       "\n",
       "    .dataframe tbody tr th {\n",
       "        vertical-align: top;\n",
       "    }\n",
       "\n",
       "    .dataframe thead th {\n",
       "        text-align: right;\n",
       "    }\n",
       "</style>\n",
       "<table border=\"1\" class=\"dataframe\">\n",
       "  <thead>\n",
       "    <tr style=\"text-align: right;\">\n",
       "      <th></th>\n",
       "      <th>Hypothesis</th>\n",
       "      <th>Reach</th>\n",
       "      <th>Impact</th>\n",
       "      <th>Confidence</th>\n",
       "      <th>Effort</th>\n",
       "    </tr>\n",
       "  </thead>\n",
       "  <tbody>\n",
       "    <tr>\n",
       "      <td>0</td>\n",
       "      <td>Add two new channels for attracting traffic. T...</td>\n",
       "      <td>3</td>\n",
       "      <td>10</td>\n",
       "      <td>8</td>\n",
       "      <td>6</td>\n",
       "    </tr>\n",
       "    <tr>\n",
       "      <td>1</td>\n",
       "      <td>Launch your own delivery service. This will sh...</td>\n",
       "      <td>2</td>\n",
       "      <td>5</td>\n",
       "      <td>4</td>\n",
       "      <td>10</td>\n",
       "    </tr>\n",
       "    <tr>\n",
       "      <td>2</td>\n",
       "      <td>Add product recommendation blocks to the store...</td>\n",
       "      <td>8</td>\n",
       "      <td>3</td>\n",
       "      <td>7</td>\n",
       "      <td>3</td>\n",
       "    </tr>\n",
       "    <tr>\n",
       "      <td>3</td>\n",
       "      <td>Change the category structure. This will incre...</td>\n",
       "      <td>8</td>\n",
       "      <td>3</td>\n",
       "      <td>3</td>\n",
       "      <td>8</td>\n",
       "    </tr>\n",
       "    <tr>\n",
       "      <td>4</td>\n",
       "      <td>Change the background color on the main page. ...</td>\n",
       "      <td>3</td>\n",
       "      <td>1</td>\n",
       "      <td>1</td>\n",
       "      <td>1</td>\n",
       "    </tr>\n",
       "  </tbody>\n",
       "</table>\n",
       "</div>"
      ],
      "text/plain": [
       "                                          Hypothesis  Reach  Impact  \\\n",
       "0  Add two new channels for attracting traffic. T...      3      10   \n",
       "1  Launch your own delivery service. This will sh...      2       5   \n",
       "2  Add product recommendation blocks to the store...      8       3   \n",
       "3  Change the category structure. This will incre...      8       3   \n",
       "4  Change the background color on the main page. ...      3       1   \n",
       "\n",
       "   Confidence  Effort  \n",
       "0           8       6  \n",
       "1           4      10  \n",
       "2           7       3  \n",
       "3           3       8  \n",
       "4           1       1  "
      ]
     },
     "execution_count": 15,
     "metadata": {},
     "output_type": "execute_result"
    }
   ],
   "source": [
    "hypotheses.head()"
   ]
  },
  {
   "cell_type": "code",
   "execution_count": 16,
   "id": "a24fb510",
   "metadata": {},
   "outputs": [],
   "source": [
    "hypotheses['ICE']=((hypotheses['Impact']*hypotheses['Confidence'])/hypotheses['Effort']).round(2)\n"
   ]
  },
  {
   "cell_type": "code",
   "execution_count": 17,
   "id": "4139a3ae",
   "metadata": {},
   "outputs": [
    {
     "data": {
      "text/html": [
       "<div>\n",
       "<style scoped>\n",
       "    .dataframe tbody tr th:only-of-type {\n",
       "        vertical-align: middle;\n",
       "    }\n",
       "\n",
       "    .dataframe tbody tr th {\n",
       "        vertical-align: top;\n",
       "    }\n",
       "\n",
       "    .dataframe thead th {\n",
       "        text-align: right;\n",
       "    }\n",
       "</style>\n",
       "<table border=\"1\" class=\"dataframe\">\n",
       "  <thead>\n",
       "    <tr style=\"text-align: right;\">\n",
       "      <th></th>\n",
       "      <th>Hypothesis</th>\n",
       "      <th>ICE</th>\n",
       "    </tr>\n",
       "  </thead>\n",
       "  <tbody>\n",
       "    <tr>\n",
       "      <td>0</td>\n",
       "      <td>Launch a promotion that gives users discounts ...</td>\n",
       "      <td>16.20</td>\n",
       "    </tr>\n",
       "    <tr>\n",
       "      <td>1</td>\n",
       "      <td>Add two new channels for attracting traffic. T...</td>\n",
       "      <td>13.33</td>\n",
       "    </tr>\n",
       "    <tr>\n",
       "      <td>2</td>\n",
       "      <td>Add a subscription form to all the main pages....</td>\n",
       "      <td>11.20</td>\n",
       "    </tr>\n",
       "    <tr>\n",
       "      <td>3</td>\n",
       "      <td>Show banners with current offers and sales on ...</td>\n",
       "      <td>8.00</td>\n",
       "    </tr>\n",
       "    <tr>\n",
       "      <td>4</td>\n",
       "      <td>Add product recommendation blocks to the store...</td>\n",
       "      <td>7.00</td>\n",
       "    </tr>\n",
       "  </tbody>\n",
       "</table>\n",
       "</div>"
      ],
      "text/plain": [
       "                                          Hypothesis    ICE\n",
       "0  Launch a promotion that gives users discounts ...  16.20\n",
       "1  Add two new channels for attracting traffic. T...  13.33\n",
       "2  Add a subscription form to all the main pages....  11.20\n",
       "3  Show banners with current offers and sales on ...   8.00\n",
       "4  Add product recommendation blocks to the store...   7.00"
      ]
     },
     "execution_count": 17,
     "metadata": {},
     "output_type": "execute_result"
    }
   ],
   "source": [
    "ice_score=hypotheses[['Hypothesis', 'ICE']].sort_values('ICE', ascending=False).reset_index(drop=True)\n",
    "ice_score.head()"
   ]
  },
  {
   "cell_type": "code",
   "execution_count": 18,
   "id": "508481cd",
   "metadata": {},
   "outputs": [],
   "source": [
    "hypotheses['RICE']=((hypotheses['Impact']*hypotheses['Confidence']*hypotheses['Reach'])/hypotheses['Effort']).round(2)\n"
   ]
  },
  {
   "cell_type": "code",
   "execution_count": 19,
   "id": "6295d9fc",
   "metadata": {},
   "outputs": [
    {
     "data": {
      "text/html": [
       "<div>\n",
       "<style scoped>\n",
       "    .dataframe tbody tr th:only-of-type {\n",
       "        vertical-align: middle;\n",
       "    }\n",
       "\n",
       "    .dataframe tbody tr th {\n",
       "        vertical-align: top;\n",
       "    }\n",
       "\n",
       "    .dataframe thead th {\n",
       "        text-align: right;\n",
       "    }\n",
       "</style>\n",
       "<table border=\"1\" class=\"dataframe\">\n",
       "  <thead>\n",
       "    <tr style=\"text-align: right;\">\n",
       "      <th></th>\n",
       "      <th>Hypothesis</th>\n",
       "      <th>RICE</th>\n",
       "    </tr>\n",
       "  </thead>\n",
       "  <tbody>\n",
       "    <tr>\n",
       "      <td>7</td>\n",
       "      <td>Add a subscription form to all the main pages....</td>\n",
       "      <td>112.0</td>\n",
       "    </tr>\n",
       "    <tr>\n",
       "      <td>2</td>\n",
       "      <td>Add product recommendation blocks to the store...</td>\n",
       "      <td>56.0</td>\n",
       "    </tr>\n",
       "    <tr>\n",
       "      <td>0</td>\n",
       "      <td>Add two new channels for attracting traffic. T...</td>\n",
       "      <td>40.0</td>\n",
       "    </tr>\n",
       "    <tr>\n",
       "      <td>6</td>\n",
       "      <td>Show banners with current offers and sales on ...</td>\n",
       "      <td>40.0</td>\n",
       "    </tr>\n",
       "    <tr>\n",
       "      <td>8</td>\n",
       "      <td>Launch a promotion that gives users discounts ...</td>\n",
       "      <td>16.2</td>\n",
       "    </tr>\n",
       "  </tbody>\n",
       "</table>\n",
       "</div>"
      ],
      "text/plain": [
       "                                          Hypothesis   RICE\n",
       "7  Add a subscription form to all the main pages....  112.0\n",
       "2  Add product recommendation blocks to the store...   56.0\n",
       "0  Add two new channels for attracting traffic. T...   40.0\n",
       "6  Show banners with current offers and sales on ...   40.0\n",
       "8  Launch a promotion that gives users discounts ...   16.2"
      ]
     },
     "execution_count": 19,
     "metadata": {},
     "output_type": "execute_result"
    }
   ],
   "source": [
    "rice_score=hypotheses[['Hypothesis', 'RICE']].sort_values('RICE', ascending=False).round(2)\n",
    "rice_score.head()"
   ]
  },
  {
   "cell_type": "raw",
   "id": "e43b966d",
   "metadata": {},
   "source": [
    "Reach — how many users will be affected by the update you want to introduce\n",
    "Impact — how strongly this update will affect the users, their experience, and their satisfaction with the product\n",
    "Confidence — how sure you are that your product will affect them in this way\n",
    "Effort — how much will it cost to test the hypothesis\n",
    "As with WSJF, you can use whatever scale is convenient: ratings from 0 to 10 or the Fibonacci sequence."
   ]
  },
  {
   "cell_type": "markdown",
   "id": "2c82e954",
   "metadata": {},
   "source": [
    "There is a little difference between Ice and Rice. So that In rice we have to take into consideration the 'REACH' parameter, Therefore ICE and RICE could show different results. In our example, The 'REACH' of 'Add a subscription form to all the main pages' is very high. Because every user can use that, Therefore  This Hypothesis is very high"
   ]
  },
  {
   "cell_type": "markdown",
   "id": "8a787a1e",
   "metadata": {},
   "source": [
    "### Analyze the A/B test:\n"
   ]
  },
  {
   "cell_type": "code",
   "execution_count": 20,
   "id": "7bc02491",
   "metadata": {},
   "outputs": [],
   "source": [
    "datesGroups=orders[['date', 'group']].drop_duplicates()"
   ]
  },
  {
   "cell_type": "code",
   "execution_count": 21,
   "id": "c28ddf16",
   "metadata": {},
   "outputs": [],
   "source": [
    "ordersAggregated=datesGroups.apply(lambda x: orders[np.logical_and(orders['date']<=x['date'],\n",
    "                                                                   orders['group']==x['group'])].agg({'date':'max','group':'max', 'transactionId':'nunique',\n",
    "                                                                                                      'visitorId':'nunique', 'revenue':'sum'}), \n",
    "                                   axis=1).sort_values(by=['date', 'group'])"
   ]
  },
  {
   "cell_type": "code",
   "execution_count": 22,
   "id": "cfc03448",
   "metadata": {},
   "outputs": [],
   "source": [
    "visitorsAggregated =datesGroups.apply(lambda x: visits[np.logical_and(visits['date']<=x['date'],\n",
    "                                                                     visits['group']==x['group'])].agg({'date':'max', 'group':'max', 'visits':'sum'}), axis=1).sort_values(by=['date', 'group'])"
   ]
  },
  {
   "cell_type": "code",
   "execution_count": 23,
   "id": "e293e33b",
   "metadata": {},
   "outputs": [],
   "source": [
    "cumulativeData = ordersAggregated.merge(visitorsAggregated, left_on=['date', 'group'], right_on=['date', 'group'])"
   ]
  },
  {
   "cell_type": "code",
   "execution_count": 24,
   "id": "3e6e74c1",
   "metadata": {},
   "outputs": [],
   "source": [
    "cumulativeData.columns=['date', 'group', 'orders', 'buyers', 'revenue', 'visitors']"
   ]
  },
  {
   "cell_type": "code",
   "execution_count": 25,
   "id": "7660943b",
   "metadata": {},
   "outputs": [
    {
     "data": {
      "text/html": [
       "<div>\n",
       "<style scoped>\n",
       "    .dataframe tbody tr th:only-of-type {\n",
       "        vertical-align: middle;\n",
       "    }\n",
       "\n",
       "    .dataframe tbody tr th {\n",
       "        vertical-align: top;\n",
       "    }\n",
       "\n",
       "    .dataframe thead th {\n",
       "        text-align: right;\n",
       "    }\n",
       "</style>\n",
       "<table border=\"1\" class=\"dataframe\">\n",
       "  <thead>\n",
       "    <tr style=\"text-align: right;\">\n",
       "      <th></th>\n",
       "      <th>date</th>\n",
       "      <th>group</th>\n",
       "      <th>orders</th>\n",
       "      <th>buyers</th>\n",
       "      <th>revenue</th>\n",
       "      <th>visitors</th>\n",
       "    </tr>\n",
       "  </thead>\n",
       "  <tbody>\n",
       "    <tr>\n",
       "      <td>0</td>\n",
       "      <td>2019-08-01</td>\n",
       "      <td>A</td>\n",
       "      <td>23</td>\n",
       "      <td>19</td>\n",
       "      <td>2266.6</td>\n",
       "      <td>719</td>\n",
       "    </tr>\n",
       "    <tr>\n",
       "      <td>1</td>\n",
       "      <td>2019-08-01</td>\n",
       "      <td>B</td>\n",
       "      <td>17</td>\n",
       "      <td>17</td>\n",
       "      <td>967.2</td>\n",
       "      <td>713</td>\n",
       "    </tr>\n",
       "    <tr>\n",
       "      <td>2</td>\n",
       "      <td>2019-08-02</td>\n",
       "      <td>A</td>\n",
       "      <td>42</td>\n",
       "      <td>36</td>\n",
       "      <td>3734.9</td>\n",
       "      <td>1338</td>\n",
       "    </tr>\n",
       "    <tr>\n",
       "      <td>3</td>\n",
       "      <td>2019-08-02</td>\n",
       "      <td>B</td>\n",
       "      <td>40</td>\n",
       "      <td>39</td>\n",
       "      <td>3535.3</td>\n",
       "      <td>1294</td>\n",
       "    </tr>\n",
       "    <tr>\n",
       "      <td>4</td>\n",
       "      <td>2019-08-03</td>\n",
       "      <td>A</td>\n",
       "      <td>66</td>\n",
       "      <td>60</td>\n",
       "      <td>5550.1</td>\n",
       "      <td>1845</td>\n",
       "    </tr>\n",
       "  </tbody>\n",
       "</table>\n",
       "</div>"
      ],
      "text/plain": [
       "        date group  orders  buyers  revenue  visitors\n",
       "0 2019-08-01     A      23      19   2266.6       719\n",
       "1 2019-08-01     B      17      17    967.2       713\n",
       "2 2019-08-02     A      42      36   3734.9      1338\n",
       "3 2019-08-02     B      40      39   3535.3      1294\n",
       "4 2019-08-03     A      66      60   5550.1      1845"
      ]
     },
     "execution_count": 25,
     "metadata": {},
     "output_type": "execute_result"
    }
   ],
   "source": [
    "cumulativeData.head()"
   ]
  },
  {
   "cell_type": "code",
   "execution_count": 26,
   "id": "ab2b4843",
   "metadata": {},
   "outputs": [],
   "source": [
    "cumulativeRevenueA =cumulativeData[cumulativeData['group']=='A'][['date', 'revenue', 'orders']]"
   ]
  },
  {
   "cell_type": "code",
   "execution_count": 27,
   "id": "f1effee0",
   "metadata": {},
   "outputs": [],
   "source": [
    "cumulativeRevenueB =cumulativeData[cumulativeData['group']=='B'][['date', 'revenue', 'orders']]"
   ]
  },
  {
   "cell_type": "markdown",
   "id": "9087b42a",
   "metadata": {},
   "source": [
    "### Graph cumulative revenue by group. Make conclusions and conjectures."
   ]
  },
  {
   "cell_type": "code",
   "execution_count": 28,
   "id": "dd8f031d",
   "metadata": {},
   "outputs": [
    {
     "name": "stderr",
     "output_type": "stream",
     "text": [
      "/opt/conda/lib/python3.7/site-packages/pandas/plotting/_matplotlib/converter.py:103: FutureWarning: Using an implicitly registered datetime converter for a matplotlib plotting method. The converter was registered by pandas on import. Future versions of pandas will require you to explicitly register matplotlib converters.\n",
      "\n",
      "To register the converters:\n",
      "\t>>> from pandas.plotting import register_matplotlib_converters\n",
      "\t>>> register_matplotlib_converters()\n",
      "  warnings.warn(msg, FutureWarning)\n"
     ]
    },
    {
     "data": {
      "text/plain": [
       "<matplotlib.legend.Legend at 0x7f91dd78c590>"
      ]
     },
     "execution_count": 28,
     "metadata": {},
     "output_type": "execute_result"
    },
    {
     "data": {
      "image/png": "[encoded data removed]",
      "text/plain": [
       "<Figure size 1080x504 with 1 Axes>"
      ]
     },
     "metadata": {
      "needs_background": "light"
     },
     "output_type": "display_data"
    }
   ],
   "source": [
    "fig = plt.figure(figsize=(15,7))\n",
    "ax = fig.gca()\n",
    "plt.plot(cumulativeRevenueA['date'], cumulativeRevenueA['revenue'], label='A')\n",
    "plt.plot(cumulativeRevenueB['date'], cumulativeRevenueB['revenue'], label='B')\n",
    "ax.set_title('Cumulative Revenue from groups')\n",
    "ax.set_xlabel('The months of visits')\n",
    "ax.set_ylabel('The amount of revenue')\n",
    "plt.legend() "
   ]
  },
  {
   "cell_type": "markdown",
   "id": "03518be8",
   "metadata": {},
   "source": [
    "Revenue is rising steadily throughout the whole test.\n"
   ]
  },
  {
   "cell_type": "code",
   "execution_count": 29,
   "id": "02ed1c4c",
   "metadata": {},
   "outputs": [
    {
     "data": {
      "image/png": "[encoded data removed]",
      "text/plain": [
       "<Figure size 720x504 with 1 Axes>"
      ]
     },
     "metadata": {
      "needs_background": "light"
     },
     "output_type": "display_data"
    }
   ],
   "source": [
    "fig = plt.figure(figsize=(10,7))\n",
    "ax = fig.gca()\n",
    "plt.plot(cumulativeRevenueA['date'], cumulativeRevenueA['revenue']/cumulativeRevenueA['orders'], label='A')\n",
    "plt.plot(cumulativeRevenueB['date'], cumulativeRevenueB['revenue']/cumulativeRevenueB['orders'], label='B')\n",
    "ax.set_title('Average order size by group')\n",
    "ax.set_xlabel('The months of visits')\n",
    "ax.set_ylabel('The amount of average order')\n",
    "\n",
    "plt.legend();"
   ]
  },
  {
   "cell_type": "markdown",
   "id": "7da2e56c",
   "metadata": {},
   "source": [
    "We here also see that the average order size by the group also increases through the time period. , The group B had a dramatic increase in 2019 08 17, but after this period, it starts to decrease, I think this is maybe just a casual reason, or seasonally , a particular day "
   ]
  },
  {
   "cell_type": "code",
   "execution_count": 30,
   "id": "15755738",
   "metadata": {},
   "outputs": [],
   "source": [
    "\n",
    "mergedCumulativeRevenue=cumulativeRevenueA.merge(cumulativeRevenueB, left_on='date',right_on='date',  how='left', suffixes=['A', 'B'])"
   ]
  },
  {
   "cell_type": "code",
   "execution_count": 31,
   "id": "518cd0bd",
   "metadata": {},
   "outputs": [
    {
     "data": {
      "text/html": [
       "<div>\n",
       "<style scoped>\n",
       "    .dataframe tbody tr th:only-of-type {\n",
       "        vertical-align: middle;\n",
       "    }\n",
       "\n",
       "    .dataframe tbody tr th {\n",
       "        vertical-align: top;\n",
       "    }\n",
       "\n",
       "    .dataframe thead th {\n",
       "        text-align: right;\n",
       "    }\n",
       "</style>\n",
       "<table border=\"1\" class=\"dataframe\">\n",
       "  <thead>\n",
       "    <tr style=\"text-align: right;\">\n",
       "      <th></th>\n",
       "      <th>date</th>\n",
       "      <th>revenueA</th>\n",
       "      <th>ordersA</th>\n",
       "      <th>revenueB</th>\n",
       "      <th>ordersB</th>\n",
       "    </tr>\n",
       "  </thead>\n",
       "  <tbody>\n",
       "    <tr>\n",
       "      <td>0</td>\n",
       "      <td>2019-08-01</td>\n",
       "      <td>2266.6</td>\n",
       "      <td>23</td>\n",
       "      <td>967.2</td>\n",
       "      <td>17</td>\n",
       "    </tr>\n",
       "    <tr>\n",
       "      <td>1</td>\n",
       "      <td>2019-08-02</td>\n",
       "      <td>3734.9</td>\n",
       "      <td>42</td>\n",
       "      <td>3535.3</td>\n",
       "      <td>40</td>\n",
       "    </tr>\n",
       "    <tr>\n",
       "      <td>2</td>\n",
       "      <td>2019-08-03</td>\n",
       "      <td>5550.1</td>\n",
       "      <td>66</td>\n",
       "      <td>4606.9</td>\n",
       "      <td>54</td>\n",
       "    </tr>\n",
       "    <tr>\n",
       "      <td>3</td>\n",
       "      <td>2019-08-04</td>\n",
       "      <td>6225.6</td>\n",
       "      <td>77</td>\n",
       "      <td>6138.5</td>\n",
       "      <td>68</td>\n",
       "    </tr>\n",
       "    <tr>\n",
       "      <td>4</td>\n",
       "      <td>2019-08-05</td>\n",
       "      <td>7623.6</td>\n",
       "      <td>99</td>\n",
       "      <td>7587.8</td>\n",
       "      <td>89</td>\n",
       "    </tr>\n",
       "  </tbody>\n",
       "</table>\n",
       "</div>"
      ],
      "text/plain": [
       "        date  revenueA  ordersA  revenueB  ordersB\n",
       "0 2019-08-01    2266.6       23     967.2       17\n",
       "1 2019-08-02    3734.9       42    3535.3       40\n",
       "2 2019-08-03    5550.1       66    4606.9       54\n",
       "3 2019-08-04    6225.6       77    6138.5       68\n",
       "4 2019-08-05    7623.6       99    7587.8       89"
      ]
     },
     "execution_count": 31,
     "metadata": {},
     "output_type": "execute_result"
    }
   ],
   "source": [
    "mergedCumulativeRevenue.head()"
   ]
  },
  {
   "cell_type": "code",
   "execution_count": 32,
   "id": "102b778e",
   "metadata": {},
   "outputs": [
    {
     "name": "stderr",
     "output_type": "stream",
     "text": [
      "No handles with labels found to put in legend.\n"
     ]
    },
    {
     "data": {
      "image/png": "[encoded data removed]",
      "text/plain": [
       "<Figure size 1080x504 with 1 Axes>"
      ]
     },
     "metadata": {
      "needs_background": "light"
     },
     "output_type": "display_data"
    }
   ],
   "source": [
    "fig = plt.figure(figsize=(15,7))\n",
    "ax = fig.gca()\n",
    "\n",
    "plt.plot(mergedCumulativeRevenue['date'], (mergedCumulativeRevenue['revenueB']/mergedCumulativeRevenue['ordersB'])/(mergedCumulativeRevenue['revenueA']/mergedCumulativeRevenue['ordersA'])-1)\n",
    "plt.axhline(y=0, color='black', linestyle='--') ;\n",
    "ax.set_title('Relative difference for average purchase sizes by group')\n",
    "ax.set_xlabel('The months of visits')\n",
    "ax.set_ylabel('Difference in purchase sizes ')\n",
    "\n",
    "plt.legend();"
   ]
  },
  {
   "cell_type": "markdown",
   "id": "767c2a01",
   "metadata": {},
   "source": [
    "There are fluctuations in revenue of these two groups, Therefore, I would like to continue the text a little while to see that if B revenue will decrease. If it will continue like this, increasing and decreasing, it means this change is related to other factors such as seasonal or other things. It means that there is no difference between control and treatment groups "
   ]
  },
  {
   "cell_type": "code",
   "execution_count": 33,
   "id": "554e5db2",
   "metadata": {},
   "outputs": [
    {
     "data": {
      "text/html": [
       "<div>\n",
       "<style scoped>\n",
       "    .dataframe tbody tr th:only-of-type {\n",
       "        vertical-align: middle;\n",
       "    }\n",
       "\n",
       "    .dataframe tbody tr th {\n",
       "        vertical-align: top;\n",
       "    }\n",
       "\n",
       "    .dataframe thead th {\n",
       "        text-align: right;\n",
       "    }\n",
       "</style>\n",
       "<table border=\"1\" class=\"dataframe\">\n",
       "  <thead>\n",
       "    <tr style=\"text-align: right;\">\n",
       "      <th></th>\n",
       "      <th>date</th>\n",
       "      <th>group</th>\n",
       "      <th>orders</th>\n",
       "      <th>buyers</th>\n",
       "      <th>revenue</th>\n",
       "      <th>visitors</th>\n",
       "    </tr>\n",
       "  </thead>\n",
       "  <tbody>\n",
       "    <tr>\n",
       "      <td>0</td>\n",
       "      <td>2019-08-01</td>\n",
       "      <td>A</td>\n",
       "      <td>23</td>\n",
       "      <td>19</td>\n",
       "      <td>2266.6</td>\n",
       "      <td>719</td>\n",
       "    </tr>\n",
       "    <tr>\n",
       "      <td>1</td>\n",
       "      <td>2019-08-01</td>\n",
       "      <td>B</td>\n",
       "      <td>17</td>\n",
       "      <td>17</td>\n",
       "      <td>967.2</td>\n",
       "      <td>713</td>\n",
       "    </tr>\n",
       "    <tr>\n",
       "      <td>2</td>\n",
       "      <td>2019-08-02</td>\n",
       "      <td>A</td>\n",
       "      <td>42</td>\n",
       "      <td>36</td>\n",
       "      <td>3734.9</td>\n",
       "      <td>1338</td>\n",
       "    </tr>\n",
       "    <tr>\n",
       "      <td>3</td>\n",
       "      <td>2019-08-02</td>\n",
       "      <td>B</td>\n",
       "      <td>40</td>\n",
       "      <td>39</td>\n",
       "      <td>3535.3</td>\n",
       "      <td>1294</td>\n",
       "    </tr>\n",
       "    <tr>\n",
       "      <td>4</td>\n",
       "      <td>2019-08-03</td>\n",
       "      <td>A</td>\n",
       "      <td>66</td>\n",
       "      <td>60</td>\n",
       "      <td>5550.1</td>\n",
       "      <td>1845</td>\n",
       "    </tr>\n",
       "  </tbody>\n",
       "</table>\n",
       "</div>"
      ],
      "text/plain": [
       "        date group  orders  buyers  revenue  visitors\n",
       "0 2019-08-01     A      23      19   2266.6       719\n",
       "1 2019-08-01     B      17      17    967.2       713\n",
       "2 2019-08-02     A      42      36   3734.9      1338\n",
       "3 2019-08-02     B      40      39   3535.3      1294\n",
       "4 2019-08-03     A      66      60   5550.1      1845"
      ]
     },
     "execution_count": 33,
     "metadata": {},
     "output_type": "execute_result"
    }
   ],
   "source": [
    "cumulativeData.head()"
   ]
  },
  {
   "cell_type": "code",
   "execution_count": 34,
   "id": "454e1d57",
   "metadata": {},
   "outputs": [],
   "source": [
    "cumulativeData['conversion']=cumulativeData['orders']/cumulativeData['visitors']"
   ]
  },
  {
   "cell_type": "code",
   "execution_count": 35,
   "id": "727275cc",
   "metadata": {},
   "outputs": [],
   "source": [
    "cumulativeDataA=cumulativeData[cumulativeData['group']=='A']\n",
    "cumulativeDataB=cumulativeData[cumulativeData['group']=='B']"
   ]
  },
  {
   "cell_type": "code",
   "execution_count": 36,
   "id": "82c54edf",
   "metadata": {},
   "outputs": [
    {
     "data": {
      "image/png": "[encoded data removed]",
      "text/plain": [
       "<Figure size 1296x504 with 1 Axes>"
      ]
     },
     "metadata": {
      "needs_background": "light"
     },
     "output_type": "display_data"
    }
   ],
   "source": [
    "fig = plt.figure(figsize=(18,7))\n",
    "ax = fig.gca()\n",
    "\n",
    "plt.plot(cumulativeDataA['date'], cumulativeDataA['conversion'], label='A')\n",
    "plt.plot(cumulativeDataB['date'], cumulativeDataB['conversion'], label='B')\n",
    "\n",
    "ax.set_title('Conversion rate as the ratio of orders to the number of visits ')\n",
    "ax.set_xlabel('The months of visits')\n",
    "ax.set_ylabel('Ratio orders to visits ')\n",
    "plt.legend();\n"
   ]
  },
  {
   "cell_type": "markdown",
   "id": "d094cf3a",
   "metadata": {},
   "source": [
    "The conversion rate between group A and group B  are significantly different, we can say that in 2019 -08-05, there are a huge increase in group b  but the conversion rate in the A group decreasing gradually but there is a decrease after the 2019-08-09 group B conversion rate also decrease. In means that the revenue for  users is significantly more than, and we can say that the buyers in group b are more loyal than group A "
   ]
  },
  {
   "cell_type": "code",
   "execution_count": 37,
   "id": "57183cfc",
   "metadata": {},
   "outputs": [],
   "source": [
    "mergedCumulativeConversions = cumulativeDataA[['date', 'conversion']].merge(cumulativeDataB[['date', 'conversion']], on ='date', suffixes=['A', 'B'])"
   ]
  },
  {
   "cell_type": "code",
   "execution_count": 38,
   "id": "a7fe8dfa",
   "metadata": {},
   "outputs": [
    {
     "data": {
      "text/html": [
       "<div>\n",
       "<style scoped>\n",
       "    .dataframe tbody tr th:only-of-type {\n",
       "        vertical-align: middle;\n",
       "    }\n",
       "\n",
       "    .dataframe tbody tr th {\n",
       "        vertical-align: top;\n",
       "    }\n",
       "\n",
       "    .dataframe thead th {\n",
       "        text-align: right;\n",
       "    }\n",
       "</style>\n",
       "<table border=\"1\" class=\"dataframe\">\n",
       "  <thead>\n",
       "    <tr style=\"text-align: right;\">\n",
       "      <th></th>\n",
       "      <th>date</th>\n",
       "      <th>conversionA</th>\n",
       "      <th>conversionB</th>\n",
       "    </tr>\n",
       "  </thead>\n",
       "  <tbody>\n",
       "    <tr>\n",
       "      <td>0</td>\n",
       "      <td>2019-08-01</td>\n",
       "      <td>0.031989</td>\n",
       "      <td>0.023843</td>\n",
       "    </tr>\n",
       "    <tr>\n",
       "      <td>1</td>\n",
       "      <td>2019-08-02</td>\n",
       "      <td>0.031390</td>\n",
       "      <td>0.030912</td>\n",
       "    </tr>\n",
       "    <tr>\n",
       "      <td>2</td>\n",
       "      <td>2019-08-03</td>\n",
       "      <td>0.035772</td>\n",
       "      <td>0.029950</td>\n",
       "    </tr>\n",
       "    <tr>\n",
       "      <td>3</td>\n",
       "      <td>2019-08-04</td>\n",
       "      <td>0.030055</td>\n",
       "      <td>0.026428</td>\n",
       "    </tr>\n",
       "    <tr>\n",
       "      <td>4</td>\n",
       "      <td>2019-08-05</td>\n",
       "      <td>0.029837</td>\n",
       "      <td>0.027134</td>\n",
       "    </tr>\n",
       "  </tbody>\n",
       "</table>\n",
       "</div>"
      ],
      "text/plain": [
       "        date  conversionA  conversionB\n",
       "0 2019-08-01     0.031989     0.023843\n",
       "1 2019-08-02     0.031390     0.030912\n",
       "2 2019-08-03     0.035772     0.029950\n",
       "3 2019-08-04     0.030055     0.026428\n",
       "4 2019-08-05     0.029837     0.027134"
      ]
     },
     "execution_count": 38,
     "metadata": {},
     "output_type": "execute_result"
    }
   ],
   "source": [
    "mergedCumulativeConversions.head()"
   ]
  },
  {
   "cell_type": "code",
   "execution_count": 39,
   "id": "256a5db9",
   "metadata": {},
   "outputs": [
    {
     "name": "stderr",
     "output_type": "stream",
     "text": [
      "No handles with labels found to put in legend.\n"
     ]
    },
    {
     "data": {
      "text/plain": [
       "<matplotlib.lines.Line2D at 0x7f91dcf0e810>"
      ]
     },
     "execution_count": 39,
     "metadata": {},
     "output_type": "execute_result"
    },
    {
     "data": {
      "image/png": "[encoded data removed]",
      "text/plain": [
       "<Figure size 1296x504 with 1 Axes>"
      ]
     },
     "metadata": {
      "needs_background": "light"
     },
     "output_type": "display_data"
    }
   ],
   "source": [
    "fig = plt.figure(figsize=(18,7))\n",
    "ax = fig.gca()\n",
    "plt.plot(mergedCumulativeConversions['date'], (mergedCumulativeConversions['conversionB']/mergedCumulativeConversions['conversionA']-1))\n",
    "         \n",
    "ax.set_title('Relative gain in conversion in group B as opposed to group A ')\n",
    "ax.set_xlabel('The months of visits')\n",
    "ax.set_ylabel('Ratio B to A ')\n",
    "plt.legend();\n",
    "plt.axhline(y=0, color='black', linestyle='--')\n",
    "plt.axhline(y=-0.1, color='grey', linestyle='--')\n"
   ]
  },
  {
   "cell_type": "markdown",
   "id": "a3df4325",
   "metadata": {},
   "source": [
    "The relative conversion rate for group B is significantly more than group A, I think that here We can make a decision to stop the experiment. The conclusion is that the conversion rate is in Group A is more than Group B ."
   ]
  },
  {
   "cell_type": "code",
   "execution_count": 40,
   "id": "b8b37bb7",
   "metadata": {},
   "outputs": [
    {
     "data": {
      "text/html": [
       "<div>\n",
       "<style scoped>\n",
       "    .dataframe tbody tr th:only-of-type {\n",
       "        vertical-align: middle;\n",
       "    }\n",
       "\n",
       "    .dataframe tbody tr th {\n",
       "        vertical-align: top;\n",
       "    }\n",
       "\n",
       "    .dataframe thead th {\n",
       "        text-align: right;\n",
       "    }\n",
       "</style>\n",
       "<table border=\"1\" class=\"dataframe\">\n",
       "  <thead>\n",
       "    <tr style=\"text-align: right;\">\n",
       "      <th></th>\n",
       "      <th>transactionId</th>\n",
       "      <th>visitorId</th>\n",
       "      <th>date</th>\n",
       "      <th>revenue</th>\n",
       "      <th>group</th>\n",
       "    </tr>\n",
       "  </thead>\n",
       "  <tbody>\n",
       "    <tr>\n",
       "      <td>0</td>\n",
       "      <td>3667963787</td>\n",
       "      <td>3312258926</td>\n",
       "      <td>2019-08-15</td>\n",
       "      <td>30.4</td>\n",
       "      <td>B</td>\n",
       "    </tr>\n",
       "    <tr>\n",
       "      <td>1</td>\n",
       "      <td>2804400009</td>\n",
       "      <td>3642806036</td>\n",
       "      <td>2019-08-15</td>\n",
       "      <td>15.2</td>\n",
       "      <td>B</td>\n",
       "    </tr>\n",
       "    <tr>\n",
       "      <td>3</td>\n",
       "      <td>3797467345</td>\n",
       "      <td>1196621759</td>\n",
       "      <td>2019-08-15</td>\n",
       "      <td>155.1</td>\n",
       "      <td>B</td>\n",
       "    </tr>\n",
       "    <tr>\n",
       "      <td>4</td>\n",
       "      <td>2282983706</td>\n",
       "      <td>2322279887</td>\n",
       "      <td>2019-08-15</td>\n",
       "      <td>40.5</td>\n",
       "      <td>B</td>\n",
       "    </tr>\n",
       "    <tr>\n",
       "      <td>5</td>\n",
       "      <td>182168103</td>\n",
       "      <td>935554773</td>\n",
       "      <td>2019-08-15</td>\n",
       "      <td>35.0</td>\n",
       "      <td>B</td>\n",
       "    </tr>\n",
       "  </tbody>\n",
       "</table>\n",
       "</div>"
      ],
      "text/plain": [
       "   transactionId   visitorId       date  revenue group\n",
       "0     3667963787  3312258926 2019-08-15     30.4     B\n",
       "1     2804400009  3642806036 2019-08-15     15.2     B\n",
       "3     3797467345  1196621759 2019-08-15    155.1     B\n",
       "4     2282983706  2322279887 2019-08-15     40.5     B\n",
       "5      182168103   935554773 2019-08-15     35.0     B"
      ]
     },
     "execution_count": 40,
     "metadata": {},
     "output_type": "execute_result"
    }
   ],
   "source": [
    "orders.head()"
   ]
  },
  {
   "cell_type": "code",
   "execution_count": 41,
   "id": "be3fce07",
   "metadata": {},
   "outputs": [
    {
     "data": {
      "image/png": "[encoded data removed]",
      "text/plain": [
       "<Figure size 576x432 with 1 Axes>"
      ]
     },
     "metadata": {
      "needs_background": "light"
     },
     "output_type": "display_data"
    }
   ],
   "source": [
    "\n",
    "fig = plt.figure(figsize=(8,6))\n",
    "ax = fig.gca()\n",
    "plt.hist(orders['revenue'])\n",
    "ax.set_title('Distribution of Revenue')\n",
    "ax.set_xlabel('The amount of Revenue')\n",
    "ax.set_ylabel('The number of visitors');"
   ]
  },
  {
   "cell_type": "markdown",
   "id": "6232a9d2",
   "metadata": {},
   "source": [
    "The graph shows that the amount of revenue for most users is between 0 and 2500. I mean there are not many outliers in the dataset"
   ]
  },
  {
   "cell_type": "code",
   "execution_count": 42,
   "id": "edb8d563",
   "metadata": {},
   "outputs": [
    {
     "data": {
      "image/png": "[encoded data removed]",
      "text/plain": [
       "<Figure size 1080x432 with 1 Axes>"
      ]
     },
     "metadata": {
      "needs_background": "light"
     },
     "output_type": "display_data"
    }
   ],
   "source": [
    "fig = plt.figure(figsize=(15,6))\n",
    "ax = fig.gca()\n",
    "x_values = pd.Series(range(0, len(orders['revenue'])))\n",
    "plt.scatter(x_values, orders['revenue']) \n",
    "ax.set_title('Distribution of Revenue')\n",
    "ax.set_xlabel('The number of buyers ')\n",
    "ax.set_ylabel(' The amount of Revenue');"
   ]
  },
  {
   "cell_type": "markdown",
   "id": "6802530c",
   "metadata": {},
   "source": [
    "The scatter chart shows that there are not many outliers just 1 buyer 20000 as an exception."
   ]
  },
  {
   "cell_type": "code",
   "execution_count": 43,
   "id": "ccafb7f8",
   "metadata": {},
   "outputs": [
    {
     "name": "stdout",
     "output_type": "stream",
     "text": [
      "[414.275 578.75  830.3  ]\n"
     ]
    }
   ],
   "source": [
    "print(np.percentile(orders['revenue'], [95, 97.5, 99]))"
   ]
  },
  {
   "cell_type": "markdown",
   "id": "1e66d462",
   "metadata": {},
   "source": [
    "But is bettter to look at the 95 and 99 percentile . "
   ]
  },
  {
   "cell_type": "code",
   "execution_count": 44,
   "id": "a9b6e06f",
   "metadata": {},
   "outputs": [
    {
     "data": {
      "text/html": [
       "<div>\n",
       "<style scoped>\n",
       "    .dataframe tbody tr th:only-of-type {\n",
       "        vertical-align: middle;\n",
       "    }\n",
       "\n",
       "    .dataframe tbody tr th {\n",
       "        vertical-align: top;\n",
       "    }\n",
       "\n",
       "    .dataframe thead th {\n",
       "        text-align: right;\n",
       "    }\n",
       "</style>\n",
       "<table border=\"1\" class=\"dataframe\">\n",
       "  <thead>\n",
       "    <tr style=\"text-align: right;\">\n",
       "      <th></th>\n",
       "      <th>transactionId</th>\n",
       "      <th>visitorId</th>\n",
       "      <th>date</th>\n",
       "      <th>revenue</th>\n",
       "      <th>group</th>\n",
       "    </tr>\n",
       "  </thead>\n",
       "  <tbody>\n",
       "    <tr>\n",
       "      <td>0</td>\n",
       "      <td>3667963787</td>\n",
       "      <td>3312258926</td>\n",
       "      <td>2019-08-15</td>\n",
       "      <td>30.4</td>\n",
       "      <td>B</td>\n",
       "    </tr>\n",
       "    <tr>\n",
       "      <td>1</td>\n",
       "      <td>2804400009</td>\n",
       "      <td>3642806036</td>\n",
       "      <td>2019-08-15</td>\n",
       "      <td>15.2</td>\n",
       "      <td>B</td>\n",
       "    </tr>\n",
       "    <tr>\n",
       "      <td>3</td>\n",
       "      <td>3797467345</td>\n",
       "      <td>1196621759</td>\n",
       "      <td>2019-08-15</td>\n",
       "      <td>155.1</td>\n",
       "      <td>B</td>\n",
       "    </tr>\n",
       "    <tr>\n",
       "      <td>4</td>\n",
       "      <td>2282983706</td>\n",
       "      <td>2322279887</td>\n",
       "      <td>2019-08-15</td>\n",
       "      <td>40.5</td>\n",
       "      <td>B</td>\n",
       "    </tr>\n",
       "    <tr>\n",
       "      <td>5</td>\n",
       "      <td>182168103</td>\n",
       "      <td>935554773</td>\n",
       "      <td>2019-08-15</td>\n",
       "      <td>35.0</td>\n",
       "      <td>B</td>\n",
       "    </tr>\n",
       "  </tbody>\n",
       "</table>\n",
       "</div>"
      ],
      "text/plain": [
       "   transactionId   visitorId       date  revenue group\n",
       "0     3667963787  3312258926 2019-08-15     30.4     B\n",
       "1     2804400009  3642806036 2019-08-15     15.2     B\n",
       "3     3797467345  1196621759 2019-08-15    155.1     B\n",
       "4     2282983706  2322279887 2019-08-15     40.5     B\n",
       "5      182168103   935554773 2019-08-15     35.0     B"
      ]
     },
     "execution_count": 44,
     "metadata": {},
     "output_type": "execute_result"
    }
   ],
   "source": [
    "orders.head()"
   ]
  },
  {
   "cell_type": "code",
   "execution_count": 45,
   "id": "f97d48a0",
   "metadata": {},
   "outputs": [],
   "source": [
    "ordersByUsers=orders[['transactionId','visitorId']].groupby('visitorId').agg({'transactionId':'nunique'}).reset_index()"
   ]
  },
  {
   "cell_type": "code",
   "execution_count": 46,
   "id": "5e71e6c1",
   "metadata": {},
   "outputs": [],
   "source": [
    "ordersByUsers.columns = ['users', 'orders']\n"
   ]
  },
  {
   "cell_type": "code",
   "execution_count": 47,
   "id": "738c0453",
   "metadata": {},
   "outputs": [
    {
     "data": {
      "text/html": [
       "<div>\n",
       "<style scoped>\n",
       "    .dataframe tbody tr th:only-of-type {\n",
       "        vertical-align: middle;\n",
       "    }\n",
       "\n",
       "    .dataframe tbody tr th {\n",
       "        vertical-align: top;\n",
       "    }\n",
       "\n",
       "    .dataframe thead th {\n",
       "        text-align: right;\n",
       "    }\n",
       "</style>\n",
       "<table border=\"1\" class=\"dataframe\">\n",
       "  <thead>\n",
       "    <tr style=\"text-align: right;\">\n",
       "      <th></th>\n",
       "      <th>users</th>\n",
       "      <th>orders</th>\n",
       "    </tr>\n",
       "  </thead>\n",
       "  <tbody>\n",
       "    <tr>\n",
       "      <td>0</td>\n",
       "      <td>5114589</td>\n",
       "      <td>1</td>\n",
       "    </tr>\n",
       "    <tr>\n",
       "      <td>1</td>\n",
       "      <td>6958315</td>\n",
       "      <td>1</td>\n",
       "    </tr>\n",
       "    <tr>\n",
       "      <td>2</td>\n",
       "      <td>11685486</td>\n",
       "      <td>1</td>\n",
       "    </tr>\n",
       "    <tr>\n",
       "      <td>3</td>\n",
       "      <td>39475350</td>\n",
       "      <td>1</td>\n",
       "    </tr>\n",
       "    <tr>\n",
       "      <td>4</td>\n",
       "      <td>47206413</td>\n",
       "      <td>1</td>\n",
       "    </tr>\n",
       "  </tbody>\n",
       "</table>\n",
       "</div>"
      ],
      "text/plain": [
       "      users  orders\n",
       "0   5114589       1\n",
       "1   6958315       1\n",
       "2  11685486       1\n",
       "3  39475350       1\n",
       "4  47206413       1"
      ]
     },
     "execution_count": 47,
     "metadata": {},
     "output_type": "execute_result"
    }
   ],
   "source": [
    "ordersByUsers.head()"
   ]
  },
  {
   "cell_type": "code",
   "execution_count": 48,
   "id": "ea02ed55",
   "metadata": {},
   "outputs": [
    {
     "data": {
      "text/html": [
       "<div>\n",
       "<style scoped>\n",
       "    .dataframe tbody tr th:only-of-type {\n",
       "        vertical-align: middle;\n",
       "    }\n",
       "\n",
       "    .dataframe tbody tr th {\n",
       "        vertical-align: top;\n",
       "    }\n",
       "\n",
       "    .dataframe thead th {\n",
       "        text-align: right;\n",
       "    }\n",
       "</style>\n",
       "<table border=\"1\" class=\"dataframe\">\n",
       "  <thead>\n",
       "    <tr style=\"text-align: right;\">\n",
       "      <th></th>\n",
       "      <th>users</th>\n",
       "      <th>orders</th>\n",
       "    </tr>\n",
       "  </thead>\n",
       "  <tbody>\n",
       "    <tr>\n",
       "      <td>908</td>\n",
       "      <td>3967698036</td>\n",
       "      <td>3</td>\n",
       "    </tr>\n",
       "    <tr>\n",
       "      <td>55</td>\n",
       "      <td>249864742</td>\n",
       "      <td>3</td>\n",
       "    </tr>\n",
       "    <tr>\n",
       "      <td>478</td>\n",
       "      <td>2108163459</td>\n",
       "      <td>3</td>\n",
       "    </tr>\n",
       "    <tr>\n",
       "      <td>687</td>\n",
       "      <td>2988190573</td>\n",
       "      <td>3</td>\n",
       "    </tr>\n",
       "    <tr>\n",
       "      <td>890</td>\n",
       "      <td>3908431265</td>\n",
       "      <td>3</td>\n",
       "    </tr>\n",
       "    <tr>\n",
       "      <td>138</td>\n",
       "      <td>611059232</td>\n",
       "      <td>3</td>\n",
       "    </tr>\n",
       "    <tr>\n",
       "      <td>632</td>\n",
       "      <td>2742574263</td>\n",
       "      <td>3</td>\n",
       "    </tr>\n",
       "    <tr>\n",
       "      <td>157</td>\n",
       "      <td>678354126</td>\n",
       "      <td>2</td>\n",
       "    </tr>\n",
       "    <tr>\n",
       "      <td>323</td>\n",
       "      <td>1404560065</td>\n",
       "      <td>2</td>\n",
       "    </tr>\n",
       "    <tr>\n",
       "      <td>452</td>\n",
       "      <td>1985475298</td>\n",
       "      <td>2</td>\n",
       "    </tr>\n",
       "  </tbody>\n",
       "</table>\n",
       "</div>"
      ],
      "text/plain": [
       "          users  orders\n",
       "908  3967698036       3\n",
       "55    249864742       3\n",
       "478  2108163459       3\n",
       "687  2988190573       3\n",
       "890  3908431265       3\n",
       "138   611059232       3\n",
       "632  2742574263       3\n",
       "157   678354126       2\n",
       "323  1404560065       2\n",
       "452  1985475298       2"
      ]
     },
     "execution_count": 48,
     "metadata": {},
     "output_type": "execute_result"
    }
   ],
   "source": [
    "ordersByUsers.sort_values('orders', ascending=False).head(10)\n"
   ]
  },
  {
   "cell_type": "code",
   "execution_count": 49,
   "id": "07550f05",
   "metadata": {},
   "outputs": [
    {
     "data": {
      "image/png": "[encoded data removed]",
      "text/plain": [
       "<Figure size 360x360 with 1 Axes>"
      ]
     },
     "metadata": {
      "needs_background": "light"
     },
     "output_type": "display_data"
    }
   ],
   "source": [
    "fig = plt.figure(figsize=(5,5))\n",
    "ax = fig.gca()\n",
    "plt.hist(ordersByUsers['orders']) \n",
    "ax.set_title('Distribution of orders')\n",
    "ax.set_xlabel('The number of orders')\n",
    "ax.set_ylabel('The number of people who made order');"
   ]
  },
  {
   "cell_type": "markdown",
   "id": "70d7571e",
   "metadata": {},
   "source": [
    "Most of the number of orders is mainly  is 1 "
   ]
  },
  {
   "cell_type": "code",
   "execution_count": 50,
   "id": "fccdc7f2",
   "metadata": {},
   "outputs": [
    {
     "data": {
      "text/plain": [
       "Text(0, 0.5, ' The number of order')"
      ]
     },
     "execution_count": 50,
     "metadata": {},
     "output_type": "execute_result"
    },
    {
     "data": {
      "image/png": "[encoded data removed]",
      "text/plain": [
       "<Figure size 720x360 with 1 Axes>"
      ]
     },
     "metadata": {
      "needs_background": "light"
     },
     "output_type": "display_data"
    }
   ],
   "source": [
    "fig = plt.figure(figsize=(10,5))\n",
    "ax = fig.gca()\n",
    "x_values=pd.Series(range(0, len(ordersByUsers)))\n",
    "plt.scatter(x_values, ordersByUsers['orders'])\n",
    "ax.set_title('Distribution of orders ')\n",
    "ax.set_xlabel('The number of buyers ')\n",
    "ax.set_ylabel(' The number of order')"
   ]
  },
  {
   "cell_type": "markdown",
   "id": "d06d95b1",
   "metadata": {},
   "source": [
    "<div class=\"alert alert-danger\">\n",
    "<s><b>Reviewer's comment:</b> Titles, axes captions?\n",
    "</div>"
   ]
  },
  {
   "cell_type": "markdown",
   "id": "26a8d64e",
   "metadata": {},
   "source": [
    "\n",
    "<div class=\"alert alert-warning\">\n",
    "<b>Reviewer's comment: </b> By the way, you can improve scatter plots by coloring them in AB group colors:<br><a>https://moonbooks.org/Articles/How-to-create-a-scatter-plot-with-several-colors-in-matplotlib-/\n",
    "</a>\n",
    "</div>"
   ]
  },
  {
   "cell_type": "code",
   "execution_count": 51,
   "id": "89a80cbc",
   "metadata": {},
   "outputs": [
    {
     "name": "stdout",
     "output_type": "stream",
     "text": [
      "[1. 1. 2.]\n"
     ]
    }
   ],
   "source": [
    "print(np.percentile(ordersByUsers['orders'], [90, 95, 99]))"
   ]
  },
  {
   "cell_type": "markdown",
   "id": "6c6e80c1",
   "metadata": {},
   "source": [
    "The scatter and percentile shows that most of order 1 and 99 percentile is 2, more than 2 I will take as abnormal "
   ]
  },
  {
   "cell_type": "code",
   "execution_count": 52,
   "id": "6f1efcb7",
   "metadata": {},
   "outputs": [
    {
     "data": {
      "text/html": [
       "<div>\n",
       "<style scoped>\n",
       "    .dataframe tbody tr th:only-of-type {\n",
       "        vertical-align: middle;\n",
       "    }\n",
       "\n",
       "    .dataframe tbody tr th {\n",
       "        vertical-align: top;\n",
       "    }\n",
       "\n",
       "    .dataframe thead th {\n",
       "        text-align: right;\n",
       "    }\n",
       "</style>\n",
       "<table border=\"1\" class=\"dataframe\">\n",
       "  <thead>\n",
       "    <tr style=\"text-align: right;\">\n",
       "      <th></th>\n",
       "      <th>transactionId</th>\n",
       "      <th>visitorId</th>\n",
       "      <th>date</th>\n",
       "      <th>revenue</th>\n",
       "      <th>group</th>\n",
       "    </tr>\n",
       "  </thead>\n",
       "  <tbody>\n",
       "    <tr>\n",
       "      <td>0</td>\n",
       "      <td>3667963787</td>\n",
       "      <td>3312258926</td>\n",
       "      <td>2019-08-15</td>\n",
       "      <td>30.4</td>\n",
       "      <td>B</td>\n",
       "    </tr>\n",
       "    <tr>\n",
       "      <td>1</td>\n",
       "      <td>2804400009</td>\n",
       "      <td>3642806036</td>\n",
       "      <td>2019-08-15</td>\n",
       "      <td>15.2</td>\n",
       "      <td>B</td>\n",
       "    </tr>\n",
       "    <tr>\n",
       "      <td>3</td>\n",
       "      <td>3797467345</td>\n",
       "      <td>1196621759</td>\n",
       "      <td>2019-08-15</td>\n",
       "      <td>155.1</td>\n",
       "      <td>B</td>\n",
       "    </tr>\n",
       "    <tr>\n",
       "      <td>4</td>\n",
       "      <td>2282983706</td>\n",
       "      <td>2322279887</td>\n",
       "      <td>2019-08-15</td>\n",
       "      <td>40.5</td>\n",
       "      <td>B</td>\n",
       "    </tr>\n",
       "    <tr>\n",
       "      <td>5</td>\n",
       "      <td>182168103</td>\n",
       "      <td>935554773</td>\n",
       "      <td>2019-08-15</td>\n",
       "      <td>35.0</td>\n",
       "      <td>B</td>\n",
       "    </tr>\n",
       "  </tbody>\n",
       "</table>\n",
       "</div>"
      ],
      "text/plain": [
       "   transactionId   visitorId       date  revenue group\n",
       "0     3667963787  3312258926 2019-08-15     30.4     B\n",
       "1     2804400009  3642806036 2019-08-15     15.2     B\n",
       "3     3797467345  1196621759 2019-08-15    155.1     B\n",
       "4     2282983706  2322279887 2019-08-15     40.5     B\n",
       "5      182168103   935554773 2019-08-15     35.0     B"
      ]
     },
     "execution_count": 52,
     "metadata": {},
     "output_type": "execute_result"
    }
   ],
   "source": [
    "orders.head()"
   ]
  },
  {
   "cell_type": "code",
   "execution_count": 53,
   "id": "68e494c4",
   "metadata": {},
   "outputs": [],
   "source": [
    "ordersByUsersA=orders[orders['group']=='A'].groupby('visitorId', as_index=False).agg({'transactionId':'nunique'})\n",
    "ordersByUsersA.columns=['userId', 'orders']"
   ]
  },
  {
   "cell_type": "code",
   "execution_count": 54,
   "id": "98d30f92",
   "metadata": {},
   "outputs": [
    {
     "data": {
      "text/html": [
       "<div>\n",
       "<style scoped>\n",
       "    .dataframe tbody tr th:only-of-type {\n",
       "        vertical-align: middle;\n",
       "    }\n",
       "\n",
       "    .dataframe tbody tr th {\n",
       "        vertical-align: top;\n",
       "    }\n",
       "\n",
       "    .dataframe thead th {\n",
       "        text-align: right;\n",
       "    }\n",
       "</style>\n",
       "<table border=\"1\" class=\"dataframe\">\n",
       "  <thead>\n",
       "    <tr style=\"text-align: right;\">\n",
       "      <th></th>\n",
       "      <th>userId</th>\n",
       "      <th>orders</th>\n",
       "    </tr>\n",
       "  </thead>\n",
       "  <tbody>\n",
       "    <tr>\n",
       "      <td>0</td>\n",
       "      <td>11685486</td>\n",
       "      <td>1</td>\n",
       "    </tr>\n",
       "    <tr>\n",
       "      <td>1</td>\n",
       "      <td>54447517</td>\n",
       "      <td>1</td>\n",
       "    </tr>\n",
       "    <tr>\n",
       "      <td>2</td>\n",
       "      <td>66685450</td>\n",
       "      <td>1</td>\n",
       "    </tr>\n",
       "    <tr>\n",
       "      <td>3</td>\n",
       "      <td>78758296</td>\n",
       "      <td>1</td>\n",
       "    </tr>\n",
       "    <tr>\n",
       "      <td>4</td>\n",
       "      <td>85103373</td>\n",
       "      <td>1</td>\n",
       "    </tr>\n",
       "  </tbody>\n",
       "</table>\n",
       "</div>"
      ],
      "text/plain": [
       "     userId  orders\n",
       "0  11685486       1\n",
       "1  54447517       1\n",
       "2  66685450       1\n",
       "3  78758296       1\n",
       "4  85103373       1"
      ]
     },
     "execution_count": 54,
     "metadata": {},
     "output_type": "execute_result"
    }
   ],
   "source": [
    "ordersByUsersA.head()"
   ]
  },
  {
   "cell_type": "code",
   "execution_count": 55,
   "id": "287398c1",
   "metadata": {},
   "outputs": [],
   "source": [
    "ordersByUsersB=orders[orders['group']=='B'].groupby('visitorId', as_index=False).agg({'transactionId':'nunique'})\n",
    "ordersByUsersB.columns = ['userId', 'orders'] "
   ]
  },
  {
   "cell_type": "code",
   "execution_count": 56,
   "id": "a6a0df33",
   "metadata": {},
   "outputs": [
    {
     "data": {
      "text/html": [
       "<div>\n",
       "<style scoped>\n",
       "    .dataframe tbody tr th:only-of-type {\n",
       "        vertical-align: middle;\n",
       "    }\n",
       "\n",
       "    .dataframe tbody tr th {\n",
       "        vertical-align: top;\n",
       "    }\n",
       "\n",
       "    .dataframe thead th {\n",
       "        text-align: right;\n",
       "    }\n",
       "</style>\n",
       "<table border=\"1\" class=\"dataframe\">\n",
       "  <thead>\n",
       "    <tr style=\"text-align: right;\">\n",
       "      <th></th>\n",
       "      <th>userId</th>\n",
       "      <th>orders</th>\n",
       "    </tr>\n",
       "  </thead>\n",
       "  <tbody>\n",
       "    <tr>\n",
       "      <td>0</td>\n",
       "      <td>11685486</td>\n",
       "      <td>1</td>\n",
       "    </tr>\n",
       "    <tr>\n",
       "      <td>1</td>\n",
       "      <td>54447517</td>\n",
       "      <td>1</td>\n",
       "    </tr>\n",
       "  </tbody>\n",
       "</table>\n",
       "</div>"
      ],
      "text/plain": [
       "     userId  orders\n",
       "0  11685486       1\n",
       "1  54447517       1"
      ]
     },
     "execution_count": 56,
     "metadata": {},
     "output_type": "execute_result"
    }
   ],
   "source": [
    "ordersByUsersA.head(2)"
   ]
  },
  {
   "cell_type": "code",
   "execution_count": 57,
   "id": "efd112ab",
   "metadata": {},
   "outputs": [
    {
     "data": {
      "text/html": [
       "<div>\n",
       "<style scoped>\n",
       "    .dataframe tbody tr th:only-of-type {\n",
       "        vertical-align: middle;\n",
       "    }\n",
       "\n",
       "    .dataframe tbody tr th {\n",
       "        vertical-align: top;\n",
       "    }\n",
       "\n",
       "    .dataframe thead th {\n",
       "        text-align: right;\n",
       "    }\n",
       "</style>\n",
       "<table border=\"1\" class=\"dataframe\">\n",
       "  <thead>\n",
       "    <tr style=\"text-align: right;\">\n",
       "      <th></th>\n",
       "      <th>userId</th>\n",
       "      <th>orders</th>\n",
       "    </tr>\n",
       "  </thead>\n",
       "  <tbody>\n",
       "    <tr>\n",
       "      <td>0</td>\n",
       "      <td>5114589</td>\n",
       "      <td>1</td>\n",
       "    </tr>\n",
       "    <tr>\n",
       "      <td>1</td>\n",
       "      <td>6958315</td>\n",
       "      <td>1</td>\n",
       "    </tr>\n",
       "  </tbody>\n",
       "</table>\n",
       "</div>"
      ],
      "text/plain": [
       "    userId  orders\n",
       "0  5114589       1\n",
       "1  6958315       1"
      ]
     },
     "execution_count": 57,
     "metadata": {},
     "output_type": "execute_result"
    }
   ],
   "source": [
    "ordersByUsersB.head(2)"
   ]
  },
  {
   "cell_type": "code",
   "execution_count": 58,
   "id": "528d907e",
   "metadata": {},
   "outputs": [
    {
     "data": {
      "text/html": [
       "<div>\n",
       "<style scoped>\n",
       "    .dataframe tbody tr th:only-of-type {\n",
       "        vertical-align: middle;\n",
       "    }\n",
       "\n",
       "    .dataframe tbody tr th {\n",
       "        vertical-align: top;\n",
       "    }\n",
       "\n",
       "    .dataframe thead th {\n",
       "        text-align: right;\n",
       "    }\n",
       "</style>\n",
       "<table border=\"1\" class=\"dataframe\">\n",
       "  <thead>\n",
       "    <tr style=\"text-align: right;\">\n",
       "      <th></th>\n",
       "      <th>date</th>\n",
       "      <th>group</th>\n",
       "      <th>visits</th>\n",
       "    </tr>\n",
       "  </thead>\n",
       "  <tbody>\n",
       "    <tr>\n",
       "      <td>0</td>\n",
       "      <td>2019-08-01</td>\n",
       "      <td>A</td>\n",
       "      <td>719</td>\n",
       "    </tr>\n",
       "    <tr>\n",
       "      <td>1</td>\n",
       "      <td>2019-08-02</td>\n",
       "      <td>A</td>\n",
       "      <td>619</td>\n",
       "    </tr>\n",
       "    <tr>\n",
       "      <td>2</td>\n",
       "      <td>2019-08-03</td>\n",
       "      <td>A</td>\n",
       "      <td>507</td>\n",
       "    </tr>\n",
       "    <tr>\n",
       "      <td>3</td>\n",
       "      <td>2019-08-04</td>\n",
       "      <td>A</td>\n",
       "      <td>717</td>\n",
       "    </tr>\n",
       "    <tr>\n",
       "      <td>4</td>\n",
       "      <td>2019-08-05</td>\n",
       "      <td>A</td>\n",
       "      <td>756</td>\n",
       "    </tr>\n",
       "  </tbody>\n",
       "</table>\n",
       "</div>"
      ],
      "text/plain": [
       "        date group  visits\n",
       "0 2019-08-01     A     719\n",
       "1 2019-08-02     A     619\n",
       "2 2019-08-03     A     507\n",
       "3 2019-08-04     A     717\n",
       "4 2019-08-05     A     756"
      ]
     },
     "execution_count": 58,
     "metadata": {},
     "output_type": "execute_result"
    }
   ],
   "source": [
    "visits.head()"
   ]
  },
  {
   "cell_type": "code",
   "execution_count": 59,
   "id": "7c642d3b",
   "metadata": {},
   "outputs": [],
   "source": [
    "zeroes_A=visits[visits['group']=='A']['visits'].sum()-len(ordersByUsersA['orders'])\n",
    "series_A=pd.Series(0, index=np.arange(zeroes_A))\n",
    "sampleA=pd.concat([ordersByUsersA['orders'],series_A ], axis=0)\n",
    "sampleA.name='orders'"
   ]
  },
  {
   "cell_type": "code",
   "execution_count": 60,
   "id": "5e0870da",
   "metadata": {},
   "outputs": [
    {
     "data": {
      "text/plain": [
       "0        1\n",
       "1        1\n",
       "2        1\n",
       "3        1\n",
       "4        1\n",
       "        ..\n",
       "18286    0\n",
       "18287    0\n",
       "18288    0\n",
       "18289    0\n",
       "18290    0\n",
       "Name: orders, Length: 18736, dtype: int64"
      ]
     },
     "execution_count": 60,
     "metadata": {},
     "output_type": "execute_result"
    }
   ],
   "source": [
    "sampleA"
   ]
  },
  {
   "cell_type": "code",
   "execution_count": 61,
   "id": "e1f4bd36",
   "metadata": {},
   "outputs": [],
   "source": [
    "zeroes_B=visits[visits['group']=='B']['visits'].sum()-len(ordersByUsersA['orders'])\n",
    "series_B=pd.Series(0, index=np.arange(zeroes_B))\n",
    "sampleB=pd.concat([ordersByUsersB['orders'],series_B ], axis=0)\n",
    "sampleB.name='orders'"
   ]
  },
  {
   "cell_type": "markdown",
   "id": "a7e26d8f",
   "metadata": {},
   "source": [
    " H0:Our Null hypothesis  is that there is no statistical significance of the difference in conversion between the groups.\\\n",
    " H1:alternative is that they are significant difference between 2 groups  /\n",
    " alpha level is 0.05 and it will be two-sided test . It means that we compare just to see the  means od two groups  whether  the same is \n",
    " "
   ]
  },
  {
   "cell_type": "code",
   "execution_count": 62,
   "id": "072df23e",
   "metadata": {},
   "outputs": [
    {
     "name": "stdout",
     "output_type": "stream",
     "text": [
      "We reject the null hypothesis\n"
     ]
    }
   ],
   "source": [
    "p=stats.mannwhitneyu(sampleA, sampleB,  alternative='two-sided')[1]\n",
    "alpha = 0.05\n",
    "if p > alpha:\n",
    "\tprint(\"We can't reject the null hypothesis\")\n",
    "else:\n",
    "\tprint(\"We reject the null hypothesis\")"
   ]
  },
  {
   "cell_type": "code",
   "execution_count": 63,
   "id": "c19375fa",
   "metadata": {},
   "outputs": [
    {
     "data": {
      "text/plain": [
       "0.0134018156887569"
      ]
     },
     "execution_count": 63,
     "metadata": {},
     "output_type": "execute_result"
    }
   ],
   "source": [
    "p"
   ]
  },
  {
   "cell_type": "markdown",
   "id": "58a91871",
   "metadata": {},
   "source": [
    "So the results is tha there is  statistical significance of the difference in conversion between the groups. "
   ]
  },
  {
   "cell_type": "markdown",
   "id": "a68f34ac",
   "metadata": {},
   "source": [
    "<div class=\"alert alert-danger\">\n",
    "<s><b>Reviewer's comment:</b> Note, that you need to specify 'two-sided' type of alternative hypothesis. Check this link: <a>https://docs.scipy.org/doc/scipy/reference/generated/scipy.stats.mannwhitneyu.html</a>\n",
    "    \n",
    "This issue is actual for every test.    \n",
    "</div>"
   ]
  },
  {
   "cell_type": "markdown",
   "id": "c0df3b4d",
   "metadata": {},
   "source": []
  },
  {
   "cell_type": "code",
   "execution_count": 64,
   "id": "3ef32d78",
   "metadata": {},
   "outputs": [
    {
     "name": "stdout",
     "output_type": "stream",
     "text": [
      "0.155\n"
     ]
    }
   ],
   "source": [
    "print(\"{0:.3f}\".format(sampleB.mean()/sampleA.mean()-1)) \n"
   ]
  },
  {
   "cell_type": "markdown",
   "id": "2b956154",
   "metadata": {},
   "source": [
    "and the mean of B conversion rate is about 15 percent more than that of A"
   ]
  },
  {
   "cell_type": "markdown",
   "id": "0206882e",
   "metadata": {},
   "source": [
    "For revenue amount   of two groups :\\\n",
    "H0:Our Null hypothesis  is that there is no statistical significance of the difference in amount of revenue  in the groups.\\\n",
    "H1:alternative is that they are significant difference between 2 groups  /\n",
    "Alpha level is 0.05 and it will be two-sided test . It means that we compare just to see the  means od two groups  whether  the same is \n",
    "\n",
    "    "
   ]
  },
  {
   "cell_type": "code",
   "execution_count": 65,
   "id": "8845f8d0",
   "metadata": {},
   "outputs": [
    {
     "name": "stdout",
     "output_type": "stream",
     "text": [
      "We can't reject the null hypothesis\n"
     ]
    }
   ],
   "source": [
    "p1=stats.mannwhitneyu(orders[orders['group']=='A']['revenue'], orders[orders['group']=='B']['revenue'], alternative='two-sided')[1]\n",
    "alpha = 0.05\n",
    "if p1 > alpha:\n",
    "\tprint(\"We can't reject the null hypothesis\")\n",
    "else:\n",
    "\tprint(\"We reject the null hypothesis\")"
   ]
  },
  {
   "cell_type": "code",
   "execution_count": 66,
   "id": "a29a0e5c",
   "metadata": {},
   "outputs": [
    {
     "data": {
      "text/plain": [
       "0.8622329690015668"
      ]
     },
     "execution_count": 66,
     "metadata": {},
     "output_type": "execute_result"
    }
   ],
   "source": [
    "p1"
   ]
  },
  {
   "cell_type": "markdown",
   "id": "c33ab77d",
   "metadata": {},
   "source": [
    "So the results is that  there is no statistical significance of the difference in revenue  between the groups. "
   ]
  },
  {
   "cell_type": "code",
   "execution_count": 67,
   "id": "e6289b82",
   "metadata": {},
   "outputs": [
    {
     "name": "stdout",
     "output_type": "stream",
     "text": [
      "0.278\n"
     ]
    }
   ],
   "source": [
    "print('{0:.3f}'.format(orders[orders['group']=='B']['revenue'].mean()/orders[orders['group']=='A']['revenue'].mean()-1)) "
   ]
  },
  {
   "cell_type": "markdown",
   "id": "bc3573de",
   "metadata": {},
   "source": [
    "and the mean of B revenue  is about 27 percent more than that of A"
   ]
  },
  {
   "cell_type": "code",
   "execution_count": 68,
   "id": "41959319",
   "metadata": {},
   "outputs": [],
   "source": [
    "sampleB = pd.concat([ordersByUsersA['orders'],pd.Series(0, index=np.arange(visits[visits['group']=='A']['visits'].sum() - len(ordersByUsersA['orders'])), name='orders')],axis=0)\n"
   ]
  },
  {
   "cell_type": "code",
   "execution_count": 69,
   "id": "b9d88595",
   "metadata": {},
   "outputs": [],
   "source": [
    "usersWithManyOrders = pd.concat([ordersByUsersA[ordersByUsersA['orders'] > 2]['userId'], ordersByUsersB[ordersByUsersB['orders'] > 2]['userId']], axis = 0).reset_index(drop=True)\n"
   ]
  },
  {
   "cell_type": "code",
   "execution_count": 70,
   "id": "5bc8772e",
   "metadata": {},
   "outputs": [],
   "source": [
    "usersWithExpensiveOrders = orders[orders['revenue'] > 831]['visitorId'].reset_index(drop=True)"
   ]
  },
  {
   "cell_type": "code",
   "execution_count": 71,
   "id": "8a9627b1",
   "metadata": {},
   "outputs": [],
   "source": [
    "abnormalUsers = pd.concat([usersWithManyOrders, usersWithExpensiveOrders], axis = 0).drop_duplicates().sort_values().reset_index(drop=True)\n"
   ]
  },
  {
   "cell_type": "code",
   "execution_count": 72,
   "id": "a54839d9",
   "metadata": {},
   "outputs": [
    {
     "data": {
      "text/html": [
       "<div>\n",
       "<style scoped>\n",
       "    .dataframe tbody tr th:only-of-type {\n",
       "        vertical-align: middle;\n",
       "    }\n",
       "\n",
       "    .dataframe tbody tr th {\n",
       "        vertical-align: top;\n",
       "    }\n",
       "\n",
       "    .dataframe thead th {\n",
       "        text-align: right;\n",
       "    }\n",
       "</style>\n",
       "<table border=\"1\" class=\"dataframe\">\n",
       "  <thead>\n",
       "    <tr style=\"text-align: right;\">\n",
       "      <th></th>\n",
       "      <th>userId</th>\n",
       "      <th>orders</th>\n",
       "    </tr>\n",
       "  </thead>\n",
       "  <tbody>\n",
       "    <tr>\n",
       "      <td>0</td>\n",
       "      <td>11685486</td>\n",
       "      <td>1</td>\n",
       "    </tr>\n",
       "    <tr>\n",
       "      <td>1</td>\n",
       "      <td>54447517</td>\n",
       "      <td>1</td>\n",
       "    </tr>\n",
       "    <tr>\n",
       "      <td>2</td>\n",
       "      <td>66685450</td>\n",
       "      <td>1</td>\n",
       "    </tr>\n",
       "    <tr>\n",
       "      <td>3</td>\n",
       "      <td>78758296</td>\n",
       "      <td>1</td>\n",
       "    </tr>\n",
       "    <tr>\n",
       "      <td>4</td>\n",
       "      <td>85103373</td>\n",
       "      <td>1</td>\n",
       "    </tr>\n",
       "  </tbody>\n",
       "</table>\n",
       "</div>"
      ],
      "text/plain": [
       "     userId  orders\n",
       "0  11685486       1\n",
       "1  54447517       1\n",
       "2  66685450       1\n",
       "3  78758296       1\n",
       "4  85103373       1"
      ]
     },
     "execution_count": 72,
     "metadata": {},
     "output_type": "execute_result"
    }
   ],
   "source": [
    "ordersByUsersA.head()"
   ]
  },
  {
   "cell_type": "code",
   "execution_count": 73,
   "id": "5b460e3b",
   "metadata": {},
   "outputs": [],
   "source": [
    "sampleAFiltered= pd.concat([ordersByUsersA[np.logical_not(ordersByUsersA['userId'].isin(abnormalUsers))]['orders'],pd.Series(0, index=np.arange(visits[visits['group']=='A']\n",
    "                                                                                                                                                   ['visits'].sum() - len(ordersByUsersA['orders'])),\n",
    "                                                                                                                                name='orders')],axis=0)\n"
   ]
  },
  {
   "cell_type": "code",
   "execution_count": 74,
   "id": "6d5592b3",
   "metadata": {},
   "outputs": [
    {
     "data": {
      "text/plain": [
       "0        1\n",
       "1        1\n",
       "2        1\n",
       "3        1\n",
       "4        1\n",
       "        ..\n",
       "18286    0\n",
       "18287    0\n",
       "18288    0\n",
       "18289    0\n",
       "18290    0\n",
       "Name: orders, Length: 18726, dtype: int64"
      ]
     },
     "execution_count": 74,
     "metadata": {},
     "output_type": "execute_result"
    }
   ],
   "source": [
    "sampleAFiltered"
   ]
  },
  {
   "cell_type": "code",
   "execution_count": 75,
   "id": "197691ea",
   "metadata": {},
   "outputs": [],
   "source": [
    "sampleBFiltered= pd.concat([ordersByUsersA[np.logical_not(ordersByUsersA['userId'].isin(abnormalUsers))]['orders'],pd.Series(0, index=np.arange(visits[visits['group']=='B']\n",
    "                                                                                                                                                   ['visits'].sum() - len(ordersByUsersA['orders'])),\n",
    "                                                                                                                                name='orders')],axis=0)\n"
   ]
  },
  {
   "cell_type": "markdown",
   "id": "992f1b87",
   "metadata": {},
   "source": [
    " H0:Our Null hypothesis  is that there is no statistical significance of the difference in conversion between the groups.\\\n",
    " H1:alternative is that they are significant difference between 2 groups  \\\n",
    " alpha level is 0.05 and it will be two-sided test . It means that we compare just to see the  means od two groups  whether  the same is "
   ]
  },
  {
   "cell_type": "code",
   "execution_count": 76,
   "id": "c53e671a",
   "metadata": {},
   "outputs": [
    {
     "name": "stdout",
     "output_type": "stream",
     "text": [
      "We can't reject the null hypothesis\n"
     ]
    }
   ],
   "source": [
    "p2=stats.mannwhitneyu(sampleAFiltered, sampleBFiltered, alternative='two-sided')[1]\n",
    "alpha = 0.05\n",
    "if p2 > alpha:\n",
    "\tprint(\"We can't reject the null hypothesis\")\n",
    "else:\n",
    "\tprint(\"We reject the null hypothesis\")"
   ]
  },
  {
   "cell_type": "code",
   "execution_count": 77,
   "id": "e13f8de0",
   "metadata": {},
   "outputs": [
    {
     "data": {
      "text/plain": [
       "0.8864959321737214"
      ]
     },
     "execution_count": 77,
     "metadata": {},
     "output_type": "execute_result"
    }
   ],
   "source": [
    "p2"
   ]
  },
  {
   "cell_type": "markdown",
   "id": "b3fc1034",
   "metadata": {},
   "source": [
    "The result is that  there is no statistical significance of the difference in conversion between the groups\n",
    "So our p values are more than 0.05 there are we can say that groups do not differ significantly. After deleting the outliers p-value is \n",
    "more than 0.05. So we can say that outliers have a big influence on groups. Because the first test and this differ each other significantly"
   ]
  },
  {
   "cell_type": "code",
   "execution_count": 78,
   "id": "31b83d68",
   "metadata": {},
   "outputs": [
    {
     "name": "stdout",
     "output_type": "stream",
     "text": [
      "-0.010\n"
     ]
    }
   ],
   "source": [
    "print(\"{0:.3f}\".format(sampleBFiltered.mean()/sampleAFiltered.mean()-1)) "
   ]
  },
  {
   "cell_type": "markdown",
   "id": "0234b445",
   "metadata": {},
   "source": [
    "But we see that after deleting outliers B conversion is less than that A about 1 percent."
   ]
  },
  {
   "cell_type": "code",
   "execution_count": 79,
   "id": "7632ae66",
   "metadata": {},
   "outputs": [],
   "source": [
    "filtered_A=orders[np.logical_and(orders['group']=='A',np.logical_not(orders['visitorId'].isin(abnormalUsers)))]\n"
   ]
  },
  {
   "cell_type": "code",
   "execution_count": 80,
   "id": "5f922cc9",
   "metadata": {},
   "outputs": [],
   "source": [
    "filtered_B=orders[np.logical_and(orders['group']=='B',np.logical_not(orders['visitorId'].isin(abnormalUsers)))]"
   ]
  },
  {
   "cell_type": "code",
   "execution_count": 85,
   "id": "845e9c7c",
   "metadata": {},
   "outputs": [
    {
     "data": {
      "text/html": [
       "<div>\n",
       "<style scoped>\n",
       "    .dataframe tbody tr th:only-of-type {\n",
       "        vertical-align: middle;\n",
       "    }\n",
       "\n",
       "    .dataframe tbody tr th {\n",
       "        vertical-align: top;\n",
       "    }\n",
       "\n",
       "    .dataframe thead th {\n",
       "        text-align: right;\n",
       "    }\n",
       "</style>\n",
       "<table border=\"1\" class=\"dataframe\">\n",
       "  <thead>\n",
       "    <tr style=\"text-align: right;\">\n",
       "      <th></th>\n",
       "      <th>transactionId</th>\n",
       "      <th>visitorId</th>\n",
       "      <th>date</th>\n",
       "      <th>revenue</th>\n",
       "      <th>group</th>\n",
       "    </tr>\n",
       "  </thead>\n",
       "  <tbody>\n",
       "    <tr>\n",
       "      <td>0</td>\n",
       "      <td>3667963787</td>\n",
       "      <td>3312258926</td>\n",
       "      <td>2019-08-15</td>\n",
       "      <td>30.4</td>\n",
       "      <td>B</td>\n",
       "    </tr>\n",
       "    <tr>\n",
       "      <td>1</td>\n",
       "      <td>2804400009</td>\n",
       "      <td>3642806036</td>\n",
       "      <td>2019-08-15</td>\n",
       "      <td>15.2</td>\n",
       "      <td>B</td>\n",
       "    </tr>\n",
       "    <tr>\n",
       "      <td>3</td>\n",
       "      <td>3797467345</td>\n",
       "      <td>1196621759</td>\n",
       "      <td>2019-08-15</td>\n",
       "      <td>155.1</td>\n",
       "      <td>B</td>\n",
       "    </tr>\n",
       "    <tr>\n",
       "      <td>4</td>\n",
       "      <td>2282983706</td>\n",
       "      <td>2322279887</td>\n",
       "      <td>2019-08-15</td>\n",
       "      <td>40.5</td>\n",
       "      <td>B</td>\n",
       "    </tr>\n",
       "    <tr>\n",
       "      <td>5</td>\n",
       "      <td>182168103</td>\n",
       "      <td>935554773</td>\n",
       "      <td>2019-08-15</td>\n",
       "      <td>35.0</td>\n",
       "      <td>B</td>\n",
       "    </tr>\n",
       "    <tr>\n",
       "      <td>...</td>\n",
       "      <td>...</td>\n",
       "      <td>...</td>\n",
       "      <td>...</td>\n",
       "      <td>...</td>\n",
       "      <td>...</td>\n",
       "    </tr>\n",
       "    <tr>\n",
       "      <td>1181</td>\n",
       "      <td>1303723408</td>\n",
       "      <td>3218863961</td>\n",
       "      <td>2019-08-14</td>\n",
       "      <td>390.5</td>\n",
       "      <td>B</td>\n",
       "    </tr>\n",
       "    <tr>\n",
       "      <td>1186</td>\n",
       "      <td>2116724386</td>\n",
       "      <td>2146711261</td>\n",
       "      <td>2019-08-14</td>\n",
       "      <td>240.6</td>\n",
       "      <td>B</td>\n",
       "    </tr>\n",
       "    <tr>\n",
       "      <td>1190</td>\n",
       "      <td>38478481</td>\n",
       "      <td>1197745035</td>\n",
       "      <td>2019-08-14</td>\n",
       "      <td>135.3</td>\n",
       "      <td>B</td>\n",
       "    </tr>\n",
       "    <tr>\n",
       "      <td>1191</td>\n",
       "      <td>3592955527</td>\n",
       "      <td>608641596</td>\n",
       "      <td>2019-08-14</td>\n",
       "      <td>255.7</td>\n",
       "      <td>B</td>\n",
       "    </tr>\n",
       "    <tr>\n",
       "      <td>1192</td>\n",
       "      <td>2662137336</td>\n",
       "      <td>3733762160</td>\n",
       "      <td>2019-08-14</td>\n",
       "      <td>100.8</td>\n",
       "      <td>B</td>\n",
       "    </tr>\n",
       "  </tbody>\n",
       "</table>\n",
       "<p>538 rows × 5 columns</p>\n",
       "</div>"
      ],
      "text/plain": [
       "      transactionId   visitorId       date  revenue group\n",
       "0        3667963787  3312258926 2019-08-15     30.4     B\n",
       "1        2804400009  3642806036 2019-08-15     15.2     B\n",
       "3        3797467345  1196621759 2019-08-15    155.1     B\n",
       "4        2282983706  2322279887 2019-08-15     40.5     B\n",
       "5         182168103   935554773 2019-08-15     35.0     B\n",
       "...             ...         ...        ...      ...   ...\n",
       "1181     1303723408  3218863961 2019-08-14    390.5     B\n",
       "1186     2116724386  2146711261 2019-08-14    240.6     B\n",
       "1190       38478481  1197745035 2019-08-14    135.3     B\n",
       "1191     3592955527   608641596 2019-08-14    255.7     B\n",
       "1192     2662137336  3733762160 2019-08-14    100.8     B\n",
       "\n",
       "[538 rows x 5 columns]"
      ]
     },
     "execution_count": 85,
     "metadata": {},
     "output_type": "execute_result"
    }
   ],
   "source": [
    "filtered_B"
   ]
  },
  {
   "cell_type": "markdown",
   "id": "0a27a209",
   "metadata": {},
   "source": [
    "For revenue amount   of two groups :\\\n",
    "H0:Our Null hypothesis  is that there is no statistical significance of the difference in amount of revenue  in the groups.\\\n",
    "H1:alternative is that they are significant difference between 2 groups  /\n",
    "Alpha level is 0.05 and it will be two-sided test . It means that we compare just to see the  means od two groups  whether  the same is \n"
   ]
  },
  {
   "cell_type": "code",
   "execution_count": 86,
   "id": "ebfb71f5",
   "metadata": {},
   "outputs": [
    {
     "name": "stdout",
     "output_type": "stream",
     "text": [
      "0.0134018156887569\n",
      "We can't reject the null hypothesis\n"
     ]
    }
   ],
   "source": [
    "mannwhitneyu=stats.mannwhitneyu(filtered_A['revenue'],filtered_B['revenue'], alternative='two-sided')[1].round(2)\n",
    "alpha = 0.05\n",
    "print(p)\n",
    "if mannwhitneyu > alpha:\n",
    "\tprint(\"We can't reject the null hypothesis\")\n",
    "else:\n",
    "\tprint(\"We reject the null hypothesis\")"
   ]
  },
  {
   "cell_type": "code",
   "execution_count": 82,
   "id": "8d61fb2e",
   "metadata": {},
   "outputs": [
    {
     "data": {
      "text/plain": [
       "0.82"
      ]
     },
     "execution_count": 82,
     "metadata": {},
     "output_type": "execute_result"
    }
   ],
   "source": [
    "mannwhitneyu"
   ]
  },
  {
   "cell_type": "markdown",
   "id": "5de0187f",
   "metadata": {},
   "source": [
    "The result is that there is no statistical significance of the difference in revenue  between the groups .So our p values are more than 0.05 there are we can say that groups are not different significantly,We see that after deleting outliers, the difference between the two groups did not change, so the data does not contain the big outliers. "
   ]
  },
  {
   "cell_type": "code",
   "execution_count": 83,
   "id": "3d819c6d",
   "metadata": {},
   "outputs": [
    {
     "name": "stderr",
     "output_type": "stream",
     "text": [
      "No handles with labels found to put in legend.\n"
     ]
    },
    {
     "data": {
      "image/png": "[encoded data removed]",
      "text/plain": [
       "<Figure size 1296x504 with 1 Axes>"
      ]
     },
     "metadata": {
      "needs_background": "light"
     },
     "output_type": "display_data"
    }
   ],
   "source": [
    "fig = plt.figure(figsize=(18,7))\n",
    "ax = fig.gca()\n",
    "plt.plot(mergedCumulativeConversions['date'], (mergedCumulativeConversions['conversionB']/mergedCumulativeConversions['conversionA']-1))\n",
    "         \n",
    "ax.set_title('Relative gain in conversion in group B as opposed to group A ')\n",
    "ax.set_xlabel('The months of visits')\n",
    "ax.set_ylabel('Ratio B to A ')\n",
    "plt.legend();\n",
    "plt.axhline(y=0, color='black', linestyle='--')\n",
    "plt.axhline(y=-0.1, color='grey', linestyle='--');"
   ]
  },
  {
   "cell_type": "code",
   "execution_count": 84,
   "id": "fc3c1690",
   "metadata": {},
   "outputs": [
    {
     "name": "stderr",
     "output_type": "stream",
     "text": [
      "No handles with labels found to put in legend.\n"
     ]
    },
    {
     "data": {
      "image/png": "[encoded data removed]",
      "text/plain": [
       "<Figure size 1080x504 with 1 Axes>"
      ]
     },
     "metadata": {
      "needs_background": "light"
     },
     "output_type": "display_data"
    }
   ],
   "source": [
    "fig = plt.figure(figsize=(15,7))\n",
    "ax = fig.gca()\n",
    "\n",
    "plt.plot(mergedCumulativeRevenue['date'], (mergedCumulativeRevenue['revenueB']/mergedCumulativeRevenue['ordersB'])/(mergedCumulativeRevenue['revenueA']/mergedCumulativeRevenue['ordersA'])-1)\n",
    "plt.axhline(y=0, color='black', linestyle='--') ;\n",
    "ax.set_title('Relative difference for average purchase sizes by group')\n",
    "ax.set_xlabel('The months of visits')\n",
    "ax.set_ylabel('Difference in purchase sizes ')\n",
    "\n",
    "plt.legend();"
   ]
  },
  {
   "cell_type": "markdown",
   "id": "ca17ffcf",
   "metadata": {},
   "source": [
    "In a conclusion, we can say that. Neither raw nor filtered data revealed any statistically significant differences in conversion between the groups. in both cases, the p-value is more than 0.05. Neither raw nor filtered data revealed any statistically significant differences in average order size between the groups. The graph showing the difference in conversion between the groups tells us that group B's results are better and it seems that it will continue like this but  Average purchase size is a little complicated because, b is better than a but in the past, there was some fluctuation and it could happen in the future also that is why I think it is better to continue the test a little more. But the probability is not so large therefore, Considering the significance level and conversion rate, it is better to stop the test and tell that group B is better than group A "
   ]
  },
  {
   "cell_type": "markdown",
   "id": "b59817ac",
   "metadata": {},
   "source": [
    "<div class=\"alert alert-success\">\n",
    "<b>Reviewer's comment:</b> Thank you for the detailed analysis!\n",
    "</div>"
   ]
  },
  {
   "cell_type": "code",
   "execution_count": null,
   "id": "323eb253",
   "metadata": {},
   "outputs": [],
   "source": []
  }
 ],
 "metadata": {
  "ExecuteTimeLog": [
   {
    "duration": 1440,
    "start_time": "2021-07-11T11:26:20.030Z"
   },
   {
    "duration": 121,
    "start_time": "2021-07-11T11:26:21.473Z"
   },
   {
    "duration": 16,
    "start_time": "2021-07-11T11:26:21.597Z"
   },
   {
    "duration": 11,
    "start_time": "2021-07-11T11:26:21.616Z"
   },
   {
    "duration": 14,
    "start_time": "2021-07-11T11:26:21.629Z"
   },
   {
    "duration": 9,
    "start_time": "2021-07-11T11:26:21.646Z"
   },
   {
    "duration": 43,
    "start_time": "2021-07-11T11:26:21.657Z"
   },
   {
    "duration": 22,
    "start_time": "2021-07-11T11:26:21.704Z"
   },
   {
    "duration": 16,
    "start_time": "2021-07-11T11:26:21.729Z"
   },
   {
    "duration": 54,
    "start_time": "2021-07-11T11:26:21.748Z"
   },
   {
    "duration": 14,
    "start_time": "2021-07-11T11:26:21.804Z"
   },
   {
    "duration": 6,
    "start_time": "2021-07-11T11:26:21.820Z"
   },
   {
    "duration": 15,
    "start_time": "2021-07-11T11:26:21.828Z"
   },
   {
    "duration": 13,
    "start_time": "2021-07-11T11:26:21.846Z"
   },
   {
    "duration": 7,
    "start_time": "2021-07-11T11:26:21.901Z"
   },
   {
    "duration": 13,
    "start_time": "2021-07-11T11:26:21.910Z"
   },
   {
    "duration": 6,
    "start_time": "2021-07-11T11:26:21.925Z"
   },
   {
    "duration": 16,
    "start_time": "2021-07-11T11:26:21.933Z"
   },
   {
    "duration": 49,
    "start_time": "2021-07-11T11:26:21.951Z"
   },
   {
    "duration": 306,
    "start_time": "2021-07-11T11:26:22.003Z"
   },
   {
    "duration": 271,
    "start_time": "2021-07-11T11:26:22.311Z"
   },
   {
    "duration": 22,
    "start_time": "2021-07-11T11:26:22.584Z"
   },
   {
    "duration": 4,
    "start_time": "2021-07-11T11:26:22.612Z"
   },
   {
    "duration": 16,
    "start_time": "2021-07-11T11:26:22.619Z"
   },
   {
    "duration": 12,
    "start_time": "2021-07-11T11:26:22.638Z"
   },
   {
    "duration": 10,
    "start_time": "2021-07-11T11:26:22.653Z"
   },
   {
    "duration": 520,
    "start_time": "2021-07-11T11:26:22.665Z"
   },
   {
    "duration": 416,
    "start_time": "2021-07-11T11:26:23.187Z"
   },
   {
    "duration": 10,
    "start_time": "2021-07-11T11:26:23.606Z"
   },
   {
    "duration": 15,
    "start_time": "2021-07-11T11:26:23.619Z"
   },
   {
    "duration": 533,
    "start_time": "2021-07-11T11:26:23.637Z"
   },
   {
    "duration": 27,
    "start_time": "2021-07-11T11:26:24.173Z"
   },
   {
    "duration": 5,
    "start_time": "2021-07-11T11:26:24.203Z"
   },
   {
    "duration": 9,
    "start_time": "2021-07-11T11:26:24.211Z"
   },
   {
    "duration": 498,
    "start_time": "2021-07-11T11:26:24.222Z"
   },
   {
    "duration": 11,
    "start_time": "2021-07-11T11:26:24.723Z"
   },
   {
    "duration": 17,
    "start_time": "2021-07-11T11:26:24.736Z"
   },
   {
    "duration": 622,
    "start_time": "2021-07-11T11:26:24.756Z"
   },
   {
    "duration": 20,
    "start_time": "2021-07-11T11:26:25.381Z"
   },
   {
    "duration": 347,
    "start_time": "2021-07-11T11:26:25.404Z"
   },
   {
    "duration": 569,
    "start_time": "2021-07-11T11:26:25.754Z"
   },
   {
    "duration": 6,
    "start_time": "2021-07-11T11:26:26.325Z"
   },
   {
    "duration": 16,
    "start_time": "2021-07-11T11:26:26.333Z"
   },
   {
    "duration": 11,
    "start_time": "2021-07-11T11:26:26.352Z"
   },
   {
    "duration": 36,
    "start_time": "2021-07-11T11:26:26.365Z"
   },
   {
    "duration": 14,
    "start_time": "2021-07-11T11:26:26.404Z"
   },
   {
    "duration": 12,
    "start_time": "2021-07-11T11:26:26.420Z"
   },
   {
    "duration": 317,
    "start_time": "2021-07-11T11:26:26.435Z"
   },
   {
    "duration": 507,
    "start_time": "2021-07-11T11:26:26.755Z"
   },
   {
    "duration": 8,
    "start_time": "2021-07-11T11:26:27.265Z"
   },
   {
    "duration": 33,
    "start_time": "2021-07-11T11:26:27.275Z"
   },
   {
    "duration": 12,
    "start_time": "2021-07-11T11:26:27.310Z"
   },
   {
    "duration": 14,
    "start_time": "2021-07-11T11:26:27.324Z"
   },
   {
    "duration": 19,
    "start_time": "2021-07-11T11:26:27.340Z"
   },
   {
    "duration": 11,
    "start_time": "2021-07-11T11:26:27.361Z"
   },
   {
    "duration": 30,
    "start_time": "2021-07-11T11:26:27.375Z"
   },
   {
    "duration": 8,
    "start_time": "2021-07-11T11:26:27.408Z"
   },
   {
    "duration": 10,
    "start_time": "2021-07-11T11:26:27.419Z"
   },
   {
    "duration": 11,
    "start_time": "2021-07-11T11:26:27.432Z"
   },
   {
    "duration": 6,
    "start_time": "2021-07-11T11:26:27.446Z"
   },
   {
    "duration": 50,
    "start_time": "2021-07-11T11:26:27.455Z"
   },
   {
    "duration": 13,
    "start_time": "2021-07-11T11:26:27.508Z"
   },
   {
    "duration": 6,
    "start_time": "2021-07-11T11:26:27.523Z"
   },
   {
    "duration": 11,
    "start_time": "2021-07-11T11:26:27.531Z"
   },
   {
    "duration": 7,
    "start_time": "2021-07-11T11:26:27.544Z"
   },
   {
    "duration": 47,
    "start_time": "2021-07-11T11:26:27.554Z"
   },
   {
    "duration": 8,
    "start_time": "2021-07-11T11:26:27.604Z"
   },
   {
    "duration": 12,
    "start_time": "2021-07-11T11:26:27.619Z"
   },
   {
    "duration": 12,
    "start_time": "2021-07-11T11:26:27.633Z"
   },
   {
    "duration": 12,
    "start_time": "2021-07-11T11:26:27.647Z"
   },
   {
    "duration": 42,
    "start_time": "2021-07-11T11:26:27.661Z"
   },
   {
    "duration": 11,
    "start_time": "2021-07-11T11:26:27.706Z"
   },
   {
    "duration": 5,
    "start_time": "2021-07-11T11:26:27.720Z"
   },
   {
    "duration": 7,
    "start_time": "2021-07-11T11:26:27.728Z"
   },
   {
    "duration": 13,
    "start_time": "2021-07-11T11:26:27.737Z"
   },
   {
    "duration": 11,
    "start_time": "2021-07-11T11:26:27.752Z"
   },
   {
    "duration": 37,
    "start_time": "2021-07-11T11:26:27.765Z"
   },
   {
    "duration": 18,
    "start_time": "2021-07-11T11:26:27.805Z"
   },
   {
    "duration": 551,
    "start_time": "2021-07-11T11:26:27.825Z"
   },
   {
    "duration": 561,
    "start_time": "2021-07-11T11:26:28.378Z"
   },
   {
    "duration": 12,
    "start_time": "2021-07-11T11:27:18.890Z"
   },
   {
    "duration": 10,
    "start_time": "2021-07-11T11:34:48.663Z"
   },
   {
    "duration": 13,
    "start_time": "2021-07-11T11:35:13.600Z"
   },
   {
    "duration": 1476,
    "start_time": "2021-07-11T16:51:11.971Z"
   },
   {
    "duration": 69,
    "start_time": "2021-07-11T16:51:13.450Z"
   },
   {
    "duration": 15,
    "start_time": "2021-07-11T16:51:13.521Z"
   },
   {
    "duration": 10,
    "start_time": "2021-07-11T16:51:13.539Z"
   },
   {
    "duration": 14,
    "start_time": "2021-07-11T16:51:13.551Z"
   },
   {
    "duration": 10,
    "start_time": "2021-07-11T16:51:13.567Z"
   },
   {
    "duration": 31,
    "start_time": "2021-07-11T16:51:13.579Z"
   },
   {
    "duration": 22,
    "start_time": "2021-07-11T16:51:13.613Z"
   },
   {
    "duration": 19,
    "start_time": "2021-07-11T16:51:13.638Z"
   },
   {
    "duration": 47,
    "start_time": "2021-07-11T16:51:13.659Z"
   },
   {
    "duration": 13,
    "start_time": "2021-07-11T16:51:13.709Z"
   },
   {
    "duration": 16,
    "start_time": "2021-07-11T16:51:13.725Z"
   },
   {
    "duration": 5,
    "start_time": "2021-07-11T16:51:13.743Z"
   },
   {
    "duration": 59,
    "start_time": "2021-07-11T16:51:13.750Z"
   },
   {
    "duration": 11,
    "start_time": "2021-07-11T16:51:13.811Z"
   },
   {
    "duration": 13,
    "start_time": "2021-07-11T16:51:13.825Z"
   },
   {
    "duration": 12,
    "start_time": "2021-07-11T16:51:13.840Z"
   },
   {
    "duration": 6,
    "start_time": "2021-07-11T16:51:13.855Z"
   },
   {
    "duration": 45,
    "start_time": "2021-07-11T16:51:13.863Z"
   },
   {
    "duration": 13,
    "start_time": "2021-07-11T16:51:13.910Z"
   },
   {
    "duration": 326,
    "start_time": "2021-07-11T16:51:13.925Z"
   },
   {
    "duration": 287,
    "start_time": "2021-07-11T16:51:14.253Z"
   },
   {
    "duration": 9,
    "start_time": "2021-07-11T16:51:14.545Z"
   },
   {
    "duration": 3,
    "start_time": "2021-07-11T16:51:14.558Z"
   },
   {
    "duration": 40,
    "start_time": "2021-07-11T16:51:14.563Z"
   },
   {
    "duration": 8,
    "start_time": "2021-07-11T16:51:14.605Z"
   },
   {
    "duration": 9,
    "start_time": "2021-07-11T16:51:14.615Z"
   },
   {
    "duration": 521,
    "start_time": "2021-07-11T16:51:14.626Z"
   },
   {
    "duration": 420,
    "start_time": "2021-07-11T16:51:15.149Z"
   },
   {
    "duration": 10,
    "start_time": "2021-07-11T16:51:15.571Z"
   },
   {
    "duration": 27,
    "start_time": "2021-07-11T16:51:15.583Z"
   },
   {
    "duration": 567,
    "start_time": "2021-07-11T16:51:15.612Z"
   },
   {
    "duration": 21,
    "start_time": "2021-07-11T16:51:16.182Z"
   },
   {
    "duration": 6,
    "start_time": "2021-07-11T16:51:16.206Z"
   },
   {
    "duration": 11,
    "start_time": "2021-07-11T16:51:16.214Z"
   },
   {
    "duration": 534,
    "start_time": "2021-07-11T16:51:16.228Z"
   },
   {
    "duration": 12,
    "start_time": "2021-07-11T16:51:16.764Z"
   },
   {
    "duration": 27,
    "start_time": "2021-07-11T16:51:16.778Z"
   },
   {
    "duration": 761,
    "start_time": "2021-07-11T16:51:16.808Z"
   },
   {
    "duration": 12,
    "start_time": "2021-07-11T16:51:17.572Z"
   },
   {
    "duration": 477,
    "start_time": "2021-07-11T16:51:17.602Z"
   },
   {
    "duration": 623,
    "start_time": "2021-07-11T16:51:18.082Z"
   },
   {
    "duration": 8,
    "start_time": "2021-07-11T16:51:18.709Z"
   },
   {
    "duration": 17,
    "start_time": "2021-07-11T16:51:18.720Z"
   },
   {
    "duration": 16,
    "start_time": "2021-07-11T16:51:18.739Z"
   },
   {
    "duration": 8,
    "start_time": "2021-07-11T16:51:18.758Z"
   },
   {
    "duration": 45,
    "start_time": "2021-07-11T16:51:18.768Z"
   },
   {
    "duration": 11,
    "start_time": "2021-07-11T16:51:18.816Z"
   },
   {
    "duration": 311,
    "start_time": "2021-07-11T16:51:18.830Z"
   },
   {
    "duration": 426,
    "start_time": "2021-07-11T16:51:19.143Z"
   },
   {
    "duration": 7,
    "start_time": "2021-07-11T16:51:19.571Z"
   },
   {
    "duration": 29,
    "start_time": "2021-07-11T16:51:19.580Z"
   },
   {
    "duration": 11,
    "start_time": "2021-07-11T16:51:19.611Z"
   },
   {
    "duration": 11,
    "start_time": "2021-07-11T16:51:19.624Z"
   },
   {
    "duration": 8,
    "start_time": "2021-07-11T16:51:19.637Z"
   },
   {
    "duration": 12,
    "start_time": "2021-07-11T16:51:19.648Z"
   },
   {
    "duration": 11,
    "start_time": "2021-07-11T16:51:19.700Z"
   },
   {
    "duration": 16,
    "start_time": "2021-07-11T16:51:19.713Z"
   },
   {
    "duration": 12,
    "start_time": "2021-07-11T16:51:19.731Z"
   },
   {
    "duration": 18,
    "start_time": "2021-07-11T16:51:19.746Z"
   },
   {
    "duration": 8,
    "start_time": "2021-07-11T16:51:19.766Z"
   },
   {
    "duration": 23,
    "start_time": "2021-07-11T16:51:19.777Z"
   },
   {
    "duration": 12,
    "start_time": "2021-07-11T16:51:19.802Z"
   },
   {
    "duration": 11,
    "start_time": "2021-07-11T16:51:19.816Z"
   },
   {
    "duration": 19,
    "start_time": "2021-07-11T16:51:19.829Z"
   },
   {
    "duration": 10,
    "start_time": "2021-07-11T16:51:19.850Z"
   },
   {
    "duration": 14,
    "start_time": "2021-07-11T16:51:19.863Z"
   },
   {
    "duration": 6,
    "start_time": "2021-07-11T16:51:19.900Z"
   },
   {
    "duration": 8,
    "start_time": "2021-07-11T16:51:19.909Z"
   },
   {
    "duration": 18,
    "start_time": "2021-07-11T16:51:19.919Z"
   },
   {
    "duration": 16,
    "start_time": "2021-07-11T16:51:19.939Z"
   },
   {
    "duration": 23,
    "start_time": "2021-07-11T16:51:19.958Z"
   },
   {
    "duration": 22,
    "start_time": "2021-07-11T16:51:19.983Z"
   },
   {
    "duration": 6,
    "start_time": "2021-07-11T16:51:20.007Z"
   },
   {
    "duration": 15,
    "start_time": "2021-07-11T16:51:20.015Z"
   },
   {
    "duration": 12,
    "start_time": "2021-07-11T16:51:20.032Z"
   },
   {
    "duration": 16,
    "start_time": "2021-07-11T16:51:20.047Z"
   },
   {
    "duration": 12,
    "start_time": "2021-07-11T16:51:20.065Z"
   },
   {
    "duration": 24,
    "start_time": "2021-07-11T16:51:20.079Z"
   },
   {
    "duration": 587,
    "start_time": "2021-07-11T16:51:20.106Z"
   },
   {
    "duration": 565,
    "start_time": "2021-07-11T16:51:20.695Z"
   },
   {
    "duration": 8,
    "start_time": "2021-07-11T16:51:48.235Z"
   },
   {
    "duration": 13,
    "start_time": "2021-07-11T16:53:28.240Z"
   },
   {
    "duration": 10,
    "start_time": "2021-07-11T16:53:44.111Z"
   },
   {
    "duration": 301,
    "start_time": "2021-07-17T06:47:18.720Z"
   },
   {
    "duration": 1119,
    "start_time": "2021-07-17T06:47:24.716Z"
   },
   {
    "duration": 62,
    "start_time": "2021-07-17T06:47:25.837Z"
   },
   {
    "duration": 9,
    "start_time": "2021-07-17T06:47:25.901Z"
   },
   {
    "duration": 7,
    "start_time": "2021-07-17T06:47:25.912Z"
   },
   {
    "duration": 9,
    "start_time": "2021-07-17T06:47:25.920Z"
   },
   {
    "duration": 6,
    "start_time": "2021-07-17T06:47:25.931Z"
   },
   {
    "duration": 7,
    "start_time": "2021-07-17T06:47:25.938Z"
   },
   {
    "duration": 13,
    "start_time": "2021-07-17T06:47:25.949Z"
   },
   {
    "duration": 12,
    "start_time": "2021-07-17T06:47:25.964Z"
   },
   {
    "duration": 12,
    "start_time": "2021-07-17T06:47:25.977Z"
   },
   {
    "duration": 8,
    "start_time": "2021-07-17T06:47:25.991Z"
   },
   {
    "duration": 46,
    "start_time": "2021-07-17T06:47:26.001Z"
   },
   {
    "duration": 4,
    "start_time": "2021-07-17T06:47:26.048Z"
   },
   {
    "duration": 11,
    "start_time": "2021-07-17T06:47:26.054Z"
   },
   {
    "duration": 6,
    "start_time": "2021-07-17T06:47:26.066Z"
   },
   {
    "duration": 9,
    "start_time": "2021-07-17T06:47:26.073Z"
   },
   {
    "duration": 8,
    "start_time": "2021-07-17T06:47:26.084Z"
   },
   {
    "duration": 9,
    "start_time": "2021-07-17T06:47:26.093Z"
   },
   {
    "duration": 11,
    "start_time": "2021-07-17T06:47:26.103Z"
   },
   {
    "duration": 28,
    "start_time": "2021-07-17T06:47:26.116Z"
   },
   {
    "duration": 176,
    "start_time": "2021-07-17T06:47:26.145Z"
   },
   {
    "duration": 148,
    "start_time": "2021-07-17T06:47:26.322Z"
   },
   {
    "duration": 5,
    "start_time": "2021-07-17T06:47:26.473Z"
   },
   {
    "duration": 5,
    "start_time": "2021-07-17T06:47:26.480Z"
   },
   {
    "duration": 10,
    "start_time": "2021-07-17T06:47:26.486Z"
   },
   {
    "duration": 6,
    "start_time": "2021-07-17T06:47:26.498Z"
   },
   {
    "duration": 6,
    "start_time": "2021-07-17T06:47:26.505Z"
   },
   {
    "duration": 299,
    "start_time": "2021-07-17T06:47:26.512Z"
   },
   {
    "duration": 232,
    "start_time": "2021-07-17T06:47:26.812Z"
   },
   {
    "duration": 6,
    "start_time": "2021-07-17T06:47:27.045Z"
   },
   {
    "duration": 12,
    "start_time": "2021-07-17T06:47:27.053Z"
   },
   {
    "duration": 361,
    "start_time": "2021-07-17T06:47:27.066Z"
   },
   {
    "duration": 13,
    "start_time": "2021-07-17T06:47:27.429Z"
   },
   {
    "duration": 5,
    "start_time": "2021-07-17T06:47:27.443Z"
   },
   {
    "duration": 7,
    "start_time": "2021-07-17T06:47:27.449Z"
   },
   {
    "duration": 291,
    "start_time": "2021-07-17T06:47:27.458Z"
   },
   {
    "duration": 8,
    "start_time": "2021-07-17T06:47:27.751Z"
   },
   {
    "duration": 28,
    "start_time": "2021-07-17T06:47:27.760Z"
   },
   {
    "duration": 396,
    "start_time": "2021-07-17T06:47:27.790Z"
   },
   {
    "duration": 8,
    "start_time": "2021-07-17T06:47:28.188Z"
   },
   {
    "duration": 203,
    "start_time": "2021-07-17T06:47:28.197Z"
   },
   {
    "duration": 400,
    "start_time": "2021-07-17T06:47:28.402Z"
   },
   {
    "duration": 4,
    "start_time": "2021-07-17T06:47:28.803Z"
   },
   {
    "duration": 24,
    "start_time": "2021-07-17T06:47:28.809Z"
   },
   {
    "duration": 15,
    "start_time": "2021-07-17T06:47:28.835Z"
   },
   {
    "duration": 11,
    "start_time": "2021-07-17T06:47:28.852Z"
   },
   {
    "duration": 18,
    "start_time": "2021-07-17T06:47:28.865Z"
   },
   {
    "duration": 20,
    "start_time": "2021-07-17T06:47:28.885Z"
   },
   {
    "duration": 175,
    "start_time": "2021-07-17T06:47:28.907Z"
   },
   {
    "duration": 360,
    "start_time": "2021-07-17T06:47:29.083Z"
   },
   {
    "duration": 5,
    "start_time": "2021-07-17T06:47:29.445Z"
   },
   {
    "duration": 24,
    "start_time": "2021-07-17T06:47:29.452Z"
   },
   {
    "duration": 15,
    "start_time": "2021-07-17T06:47:29.478Z"
   },
   {
    "duration": 19,
    "start_time": "2021-07-17T06:47:29.495Z"
   },
   {
    "duration": 17,
    "start_time": "2021-07-17T06:47:29.516Z"
   },
   {
    "duration": 14,
    "start_time": "2021-07-17T06:47:29.534Z"
   },
   {
    "duration": 16,
    "start_time": "2021-07-17T06:47:29.550Z"
   },
   {
    "duration": 9,
    "start_time": "2021-07-17T06:47:29.568Z"
   },
   {
    "duration": 6,
    "start_time": "2021-07-17T06:47:29.579Z"
   },
   {
    "duration": 7,
    "start_time": "2021-07-17T06:47:29.587Z"
   },
   {
    "duration": 9,
    "start_time": "2021-07-17T06:47:29.596Z"
   },
   {
    "duration": 12,
    "start_time": "2021-07-17T06:47:29.606Z"
   },
   {
    "duration": 6,
    "start_time": "2021-07-17T06:47:29.619Z"
   },
   {
    "duration": 25,
    "start_time": "2021-07-17T06:47:29.626Z"
   },
   {
    "duration": 16,
    "start_time": "2021-07-17T06:47:29.653Z"
   },
   {
    "duration": 3,
    "start_time": "2021-07-17T06:47:29.672Z"
   },
   {
    "duration": 11,
    "start_time": "2021-07-17T06:47:29.677Z"
   },
   {
    "duration": 17,
    "start_time": "2021-07-17T06:47:29.693Z"
   },
   {
    "duration": 16,
    "start_time": "2021-07-17T06:47:29.712Z"
   },
   {
    "duration": 15,
    "start_time": "2021-07-17T06:47:29.730Z"
   },
   {
    "duration": 23,
    "start_time": "2021-07-17T06:47:29.746Z"
   },
   {
    "duration": 16,
    "start_time": "2021-07-17T06:47:29.771Z"
   },
   {
    "duration": 16,
    "start_time": "2021-07-17T06:47:29.789Z"
   },
   {
    "duration": 14,
    "start_time": "2021-07-17T06:47:29.807Z"
   },
   {
    "duration": 14,
    "start_time": "2021-07-17T06:47:29.823Z"
   },
   {
    "duration": 11,
    "start_time": "2021-07-17T06:47:29.839Z"
   },
   {
    "duration": 9,
    "start_time": "2021-07-17T06:47:29.851Z"
   },
   {
    "duration": 11,
    "start_time": "2021-07-17T06:47:29.862Z"
   },
   {
    "duration": 13,
    "start_time": "2021-07-17T06:47:29.874Z"
   },
   {
    "duration": 12,
    "start_time": "2021-07-17T06:47:29.889Z"
   },
   {
    "duration": 7,
    "start_time": "2021-07-17T06:47:29.902Z"
   },
   {
    "duration": 16,
    "start_time": "2021-07-17T06:47:29.911Z"
   },
   {
    "duration": 404,
    "start_time": "2021-07-17T06:47:29.929Z"
   },
   {
    "duration": 400,
    "start_time": "2021-07-17T06:47:30.335Z"
   },
   {
    "duration": 12,
    "start_time": "2021-07-17T06:49:11.035Z"
   },
   {
    "duration": 5,
    "start_time": "2021-07-17T06:49:31.743Z"
   }
  ],
  "kernelspec": {
   "display_name": "Python 3",
   "language": "python",
   "name": "python3"
  },
  "language_info": {
   "codemirror_mode": {
    "name": "ipython",
    "version": 3
   },
   "file_extension": ".py",
   "mimetype": "text/x-python",
   "name": "python",
   "nbconvert_exporter": "python",
   "pygments_lexer": "ipython3",
   "version": "3.7.10"
  },
  "toc": {
   "base_numbering": 1,
   "nav_menu": {},
   "number_sections": true,
   "sideBar": true,
   "skip_h1_title": true,
   "title_cell": "Table of Contents",
   "title_sidebar": "Contents",
   "toc_cell": false,
   "toc_position": {},
   "toc_section_display": true,
   "toc_window_display": false
  }
 },
 "nbformat": 4,
 "nbformat_minor": 5
}
